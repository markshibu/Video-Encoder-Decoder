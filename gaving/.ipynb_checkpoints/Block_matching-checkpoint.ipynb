{
 "cells": [
  {
   "cell_type": "code",
   "execution_count": 14,
   "metadata": {},
   "outputs": [],
   "source": [
    "import numpy as np\n",
    "import skimage\n",
    "import skimage.io\n",
    "import sys\n",
    "sys.path.append(\"/users/bisma/.../gaving/\")\n",
    "import proto_mpeg\n",
    "import matplotlib.pyplot as plt\n",
    "import time"
   ]
  },
  {
   "cell_type": "code",
   "execution_count": 15,
   "metadata": {},
   "outputs": [],
   "source": [
    "# All the 'blk' mentioned below mean 8x8 macroblocks\n",
    "# Not 16x16 blocks"
   ]
  },
  {
   "cell_type": "code",
   "execution_count": 16,
   "metadata": {},
   "outputs": [],
   "source": [
    "def blkcost(blk1, blk2):\n",
    "    return np.sum((blk1 - blk2)**2)"
   ]
  },
  {
   "cell_type": "code",
   "execution_count": 20,
   "metadata": {},
   "outputs": [],
   "source": [
    "def fmwrap(frame, motion, blksize=16):\n",
    "    wrappedfm = frame.getFrame()\n",
    "    row, col, tmp = motion.shape\n",
    "    \n",
    "    for i in range(row):\n",
    "        for j in range(col):\n",
    "            X = motion[i,j,0]\n",
    "            Y = motion[i,j,1]\n",
    "            wrappedfm[Y+i*blksize:Y+(i+1)*blksize, X+j*blksize:X+(j+1)*blksize,:] = frame.getFrame()[i*blksize:(i+1)*blksize, j*blksize:(j+1)*blksize,:]\n",
    "    return wrappedfm"
   ]
  },
  {
   "cell_type": "code",
   "execution_count": 23,
   "metadata": {},
   "outputs": [],
   "source": [
    "def blkmatch(frame1, frame2, blksize=16, scpsize=7):\n",
    "    gsframe1 = skimage.color.rgb2gray(frame1.getFrame())\n",
    "    gsframe2 = skimage.color.rgb2gray(frame2.getFrame())\n",
    "    row, col = gsframe1.shape\n",
    "    \n",
    "    wrappedfm1 = frame1.getFrame()\n",
    "    hlfblksize = int(blksize/2)\n",
    "    \n",
    "    # frame1_mot = np.zeros(int(row/blksize), int(col/blksize),2)\n",
    "    tmp = [[0,0] for _ in range(image1.shape[0])]\n",
    "    frame1_mot = np.array([tmp for _ in range(image1.shape[1])])\n",
    "    \n",
    "    for i in range(hlfblksize, row, blksize):\n",
    "        for j in range(hlfblksize, col, blksize):\n",
    "            ref_blk = gsframe1[i-hlfblksize:i+hlfblksize, j-hlfblksize:j+hlfblksize]\n",
    "            min_cost = 1000000\n",
    "            for u in range(i-scpsize,i+scpsize+1):\n",
    "                for v in range(j-scpsize,j+scpsize+1):\n",
    "                    if (u >= hlfblksize and v >= hlfblksize and u+hlfblksize <= row and v+hlfblksize <= col):\n",
    "                        current_blk = gsframe2[u-hlfblksize:u+hlfblksize, v-hlfblksize:v+hlfblksize]\n",
    "                        current_cost = blkcost(ref_blk,current_blk)\n",
    "                        if (current_cost < min_cost):\n",
    "                            min_cost = current_cost\n",
    "                            Y = u-i\n",
    "                            X = v-j\n",
    "            wrappedfm1[Y+i-hlfblksize:Y+i+hlfblksize,X+j-hlfblksize:X+j+hlfblksize,:] = frame1.getFrame()[i-hlfblksize:i+hlfblksize,j-hlfblksize:j+hlfblksize,:]\n",
    "            frame1_mot[int((i-hlfblksize)/blksize),int((j-hlfblksize)/blksize),0] = X\n",
    "            frame1_mot[int((i-hlfblksize)/blksize),int((j-hlfblksize)/blksize),1] = Y\n",
    "    error = wrappedfm1 - frame2.getFrame()\n",
    "    return frame1_mot, error\n"
   ]
  },
  {
   "cell_type": "code",
   "execution_count": 24,
   "metadata": {
    "scrolled": true
   },
   "outputs": [
    {
     "name": "stdout",
     "output_type": "stream",
     "text": [
      "(360, 640, 3)\n",
      "(360, 640, 3)\n",
      "2.2673568725585938\n",
      "122.40638995170593\n"
     ]
    }
   ],
   "source": [
    "image1 = plt.imread('scene00001.jpg')\n",
    "image2 = plt.imread('scene00002.jpg')\n",
    "print(image1.shape)\n",
    "print(image2.shape)\n",
    "fr1 = proto_mpeg.Frame(image1)\n",
    "fr2 = proto_mpeg.Frame(image2)\n",
    "\n",
    "start = time.time()\n",
    "fr1mot, error = blkmatch(fr1, fr2, blksize=16, scpsize=7)\n",
    "print(time.time() - start)\n",
    "\n",
    "start = time.time()\n",
    "wrappedfm1 = fmwrap(fr1, fr1mot, blksize=16)\n",
    "print(time.time() - start)\n"
   ]
  },
  {
   "cell_type": "code",
   "execution_count": null,
   "metadata": {},
   "outputs": [],
   "source": []
  },
  {
   "cell_type": "code",
   "execution_count": null,
   "metadata": {},
   "outputs": [],
   "source": []
  },
  {
   "cell_type": "code",
   "execution_count": null,
   "metadata": {},
   "outputs": [],
   "source": []
  }
 ],
 "metadata": {
  "kernelspec": {
   "display_name": "Python 3",
   "language": "python",
   "name": "python3"
  },
  "language_info": {
   "codemirror_mode": {
    "name": "ipython",
    "version": 3
   },
   "file_extension": ".py",
   "mimetype": "text/x-python",
   "name": "python",
   "nbconvert_exporter": "python",
   "pygments_lexer": "ipython3",
   "version": "3.6.5"
  }
 },
 "nbformat": 4,
 "nbformat_minor": 2
}
