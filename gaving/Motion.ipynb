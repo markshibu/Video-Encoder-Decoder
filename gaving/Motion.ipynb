{
 "cells": [
  {
   "cell_type": "code",
   "execution_count": 1,
   "metadata": {
    "scrolled": false
   },
   "outputs": [],
   "source": [
    "import numpy as np\n",
    "import skimage"
   ]
  },
  {
   "cell_type": "code",
   "execution_count": 2,
   "metadata": {},
   "outputs": [],
   "source": [
    "def blkcost(blk1, blk2):\n",
    "    return np.sum((blk1 - blk2)**2)"
   ]
  },
  {
   "cell_type": "code",
   "execution_count": 3,
   "metadata": {},
   "outputs": [],
   "source": [
    "def fmwrap(frame, motion, blksize=8):\n",
    "    wrappedfm = frame.copy()\n",
    "    row, col, tmp = motion.shape\n",
    "    \n",
    "    for i in range(row):\n",
    "        for j in range(col):\n",
    "            X = motion[i,j,0]\n",
    "            Y = motion[i,j,1]\n",
    "            wrappedfm[Y+i*blksize:Y+(i+1)*blksize, X+j*blksize:X+(j+1)*blksize,:] = frame[i*blksize:(i+1)*blksize, j*blksize:(j+1)*blksize,:]\n",
    "    return wrappedfm"
   ]
  },
  {
   "cell_type": "code",
   "execution_count": 4,
   "metadata": {},
   "outputs": [],
   "source": [
    "def blkmatch(frame1, frame2, blksize, scpsize):\n",
    "\n",
    "    gsframe1 = skimage.color.rgb2gray(frame1)\n",
    "    gsframe2 = skimage.color.rgb2gray(frame2)\n",
    "    row, col = gsframe1.shape\n",
    "    \n",
    "    wrappedfm1 = frame1.copy()\n",
    "    hlfblksize = int(np.ceil(blksize/2))\n",
    "    \n",
    "    frame1_mot = np.zeros((int(row/blksize), int(col/blksize),2))\n",
    "    \n",
    "    for i in range(hlfblksize, row, blksize):\n",
    "        for j in range(hlfblksize, col, blksize):\n",
    "            ref_blk = frame1_gray[i-hlfblksize:i+hlfblksize, j-hlfblksize:j+hlfblksize]\n",
    "            min_dif = 1000000\n",
    "            for u in range(i-scpsize,i+scpsize+1):\n",
    "                for v in range(j-scpsize,j+scpsize+1):\n",
    "                    if (u >= hlfblksize and v >= hlfblksize and u+hlfblksize <=row and v+hlfblksize <= col):\n",
    "                        current_blk = gsframe2[u-hlfblksize:u+hlfblksize, v-hlfblksize:v+hlfblksize]\n",
    "                        current_cost = blkcost(bl1, bl2)\n",
    "                        if (currentcost < min_diff):\n",
    "                            min_diff = current_cost\n",
    "                            Y = u-i\n",
    "                            X = v-i\n",
    "            wrappedfm[Y+i-hlfblksize:Y+i+hlfblksize,X+j-hlfblksize:X+j+hlfblksize,:] = frame1[i-hlfblksize:i+hlfblksize,j-hlfblksize:j+hlfblksize,:]\n",
    "            X =frame1_mot[int((i-hlfblksize)/blksize),int((j-hlfblksize)/blksize),0]\n",
    "            Y =frame1_mot[int((i-hlfblksize)/blksize),int((j-hlfblksize)/blksize),1]\n",
    "    error = int(wrappedfm1) - int(frame2)\n",
    "    return frame1_mot, error\n",
    "    \n",
    "    \n",
    "    \n",
    "    \n",
    "    "
   ]
  },
  {
   "cell_type": "code",
   "execution_count": null,
   "metadata": {},
   "outputs": [],
   "source": []
  }
 ],
 "metadata": {
  "kernelspec": {
   "display_name": "Python 3",
   "language": "python",
   "name": "python3"
  },
  "language_info": {
   "codemirror_mode": {
    "name": "ipython",
    "version": 3
   },
   "file_extension": ".py",
   "mimetype": "text/x-python",
   "name": "python",
   "nbconvert_exporter": "python",
   "pygments_lexer": "ipython3",
   "version": "3.6.4"
  }
 },
 "nbformat": 4,
 "nbformat_minor": 2
}
