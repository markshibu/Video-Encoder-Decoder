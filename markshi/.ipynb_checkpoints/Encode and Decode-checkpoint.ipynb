{
 "cells": [
  {
   "cell_type": "markdown",
   "metadata": {},
   "source": [
    "# Encode & Decode for single block"
   ]
  },
  {
   "cell_type": "markdown",
   "metadata": {},
   "source": [
    "takes a 16x16x3 matrix, corresponding to a Macroblock of the image\n",
    "\n",
    "Outputs the result of the DCT transformation and Quantization"
   ]
  },
  {
   "cell_type": "code",
   "execution_count": 1,
   "metadata": {
    "collapsed": true
   },
   "outputs": [],
   "source": [
    "import numpy as np\n",
    "import sys\n",
    "import cv2\n",
    "import scipy.fftpack as fft\n",
    "import matplotlib.pyplot as plt\n",
    "%matplotlib inline"
   ]
  },
  {
   "cell_type": "code",
   "execution_count": 138,
   "metadata": {},
   "outputs": [],
   "source": [
    "class Frame:\n",
    "    def __init__(self, image, QF=1):\n",
    "        '''\n",
    "        @param image: RBG image of shape (height, width, 3)\n",
    "        '''\n",
    "        self.QF=QF\n",
    "        self.image = image\n",
    "        self.r = image[:, :, 0]\n",
    "        self.g = image[:, :, 1]\n",
    "        self.b = image[:, :, 2]\n",
    "        self.v_mblocks = np.shape(self.r)[0] // 16\n",
    "        self.h_mblocks = np.shape(self.r)[1] // 16\n",
    "\n",
    "    def getFrame(self):\n",
    "        reconstructed_image = np.dstack((self.r, self.g, self.b))\n",
    "        return reconstructed_image\n",
    "        \n",
    "    def show(self):\n",
    "        self.getFrame()\n",
    "        plt.imshow(self.getFrame())\n",
    "    \n",
    "    def getBlock(self,m,n):\n",
    "        m_start = m*16\n",
    "        n_start = n*16\n",
    "        tmp = self.image[m_start:m_start+16,n_start:n_start+16]\n",
    "        plt.imshow(tmp)\n",
    "        return tmp\n",
    "\n",
    "    def image_to_blocks(self):\n",
    "        \"\"\"\n",
    "        Convert the stored image into a sequence of 8x8 pixel blocks for encoding\n",
    "        :return: (x, 8, 8) shaped array. x depends on dimensions of original image\n",
    "        \"\"\"\n",
    "        return proto_mpeg_computation.image_to_blocks(self.r, self.g, self.b)\n",
    "\n",
    "    #def blocks_to_image(self, blocks):"
   ]
  },
  {
   "cell_type": "code",
   "execution_count": 129,
   "metadata": {},
   "outputs": [
    {
     "name": "stdout",
     "output_type": "stream",
     "text": [
      "(480, 640, 3)\n"
     ]
    }
   ],
   "source": [
    "img_name = 'night.jpg'\n",
    "fullPic = cv2.imread(img_name)\n",
    "fullPic = fullPic\n",
    "print(fullPic.shape)"
   ]
  },
  {
   "cell_type": "code",
   "execution_count": 141,
   "metadata": {},
   "outputs": [],
   "source": [
    "pic = Frame(fullPic, QF=1)"
   ]
  },
  {
   "cell_type": "code",
   "execution_count": 142,
   "metadata": {},
   "outputs": [
    {
     "data": {
      "image/png": "[encoded data removed]",
      "text/plain": [
       "<matplotlib.figure.Figure at 0x19b232985c0>"
      ]
     },
     "metadata": {},
     "output_type": "display_data"
    }
   ],
   "source": [
    "tmp = pic.getBlock(0,0)"
   ]
  },
  {
   "cell_type": "code",
   "execution_count": 144,
   "metadata": {},
   "outputs": [
    {
     "data": {
      "text/plain": [
       "(16, 16, 3)"
      ]
     },
     "execution_count": 144,
     "metadata": {},
     "output_type": "execute_result"
    }
   ],
   "source": [
    "tmp.shape"
   ]
  },
  {
   "cell_type": "code",
   "execution_count": null,
   "metadata": {
    "collapsed": true
   },
   "outputs": [],
   "source": []
  },
  {
   "cell_type": "code",
   "execution_count": 147,
   "metadata": {},
   "outputs": [
    {
     "name": "stdout",
     "output_type": "stream",
     "text": [
      "[[228, [0, -2], [0, -3], [0, -2], [0, -4], [0, 5], [1, 1], [0, 1], [0, -1], [0, -1], [0, 2], [0, -1], [2, 1], [3, 1], [4, -2], 'EOB'], [238, [0, 4], [0, -3], [1, 2], [0, -2], [0, -4], [1, 1], [0, 1], [0, 1], [1, 2], [0, -1], [0, -1], [3, -1], [0, -1], [5, -1], [16, 1], 'EOB'], [242, [0, 3], [0, -8], [0, 3], [0, -1], [0, 5], [0, 1], [0, -4], [0, 1], [0, -1], [1, -2], [0, 1], [0, -4], [0, 1], [2, 2], [0, -1], [0, 2], [0, -2], [2, 1], [0, -1], 'EOB'], [248, [0, 4], [0, -3], [0, 1], [0, -2], [0, 3], [1, -2], [0, -2], [1, 1], [1, -2], [0, 1], [3, 1], [6, -1], [0, 1], [5, -1], 'EOB'], [538, [1, 2], [1, -1], [0, -1], [0, -1], 'EOB'], [482, [0, 2], 'EOB']]\n"
     ]
    }
   ],
   "source": [
    "tmp1 = encode(tmp,0.1)\n",
    "print(tmp1)"
   ]
  },
  {
   "cell_type": "code",
   "execution_count": 149,
   "metadata": {},
   "outputs": [],
   "source": [
    "tmp2 = decode(tmp1,0.1)"
   ]
  },
  {
   "cell_type": "code",
   "execution_count": 150,
   "metadata": {},
   "outputs": [
    {
     "data": {
      "text/plain": [
       "array([[54, 53, 55, 55, 52, 53, 56, 57, 58, 61, 64, 58, 57, 55, 58, 56],\n",
       "       [54, 53, 53, 55, 55, 57, 59, 59, 59, 61, 63, 57, 57, 54, 56, 56],\n",
       "       [56, 53, 53, 55, 56, 60, 61, 60, 59, 60, 62, 58, 57, 54, 56, 57],\n",
       "       [58, 55, 55, 55, 56, 58, 60, 59, 58, 59, 61, 61, 59, 57, 58, 59],\n",
       "       [58, 57, 58, 57, 55, 55, 58, 58, 57, 59, 61, 63, 60, 59, 58, 59],\n",
       "       [58, 58, 59, 58, 55, 55, 57, 58, 58, 61, 61, 63, 59, 59, 58, 58],\n",
       "       [58, 57, 58, 58, 56, 56, 57, 57, 59, 62, 61, 61, 57, 60, 58, 59],\n",
       "       [60, 57, 57, 57, 57, 57, 57, 54, 59, 63, 60, 60, 56, 61, 60, 61],\n",
       "       [58, 58, 59, 59, 57, 56, 56, 57, 60, 60, 61, 62, 62, 63, 61, 60],\n",
       "       [58, 58, 60, 61, 60, 59, 58, 59, 61, 60, 60, 61, 62, 61, 60, 59],\n",
       "       [58, 58, 59, 59, 58, 57, 57, 58, 63, 61, 60, 61, 61, 60, 59, 60],\n",
       "       [60, 60, 59, 58, 56, 55, 56, 58, 64, 64, 62, 61, 59, 59, 60, 60],\n",
       "       [62, 62, 61, 60, 59, 58, 59, 61, 63, 66, 65, 60, 58, 60, 61, 60],\n",
       "       [61, 60, 60, 61, 61, 61, 62, 62, 63, 66, 65, 60, 58, 60, 61, 61],\n",
       "       [66, 62, 58, 59, 62, 63, 62, 61, 65, 64, 63, 62, 61, 61, 61, 62],\n",
       "       [77, 68, 60, 59, 62, 65, 64, 62, 67, 63, 61, 64, 64, 61, 61, 63]])"
      ]
     },
     "execution_count": 150,
     "metadata": {},
     "output_type": "execute_result"
    }
   ],
   "source": [
    "tmp2"
   ]
  },
  {
   "cell_type": "code",
   "execution_count": 90,
   "metadata": {
    "collapsed": true
   },
   "outputs": [],
   "source": [
    "img_name = 'Add.png'\n",
    "#img_name = 'cameraman.png'\n",
    "src = cv2.imread(img_name)[:16,:16]"
   ]
  },
  {
   "cell_type": "code",
   "execution_count": 91,
   "metadata": {},
   "outputs": [
    {
     "data": {
      "text/plain": [
       "<matplotlib.image.AxesImage at 0x19b2481b2e8>"
      ]
     },
     "execution_count": 91,
     "metadata": {},
     "output_type": "execute_result"
    },
    {
     "data": {
      "image/png": "[encoded data removed]",
      "text/plain": [
       "<matplotlib.figure.Figure at 0x19b247cb7b8>"
      ]
     },
     "metadata": {},
     "output_type": "display_data"
    }
   ],
   "source": [
    "plt.title('16*16 block')\n",
    "plt.imshow(src)"
   ]
  },
  {
   "cell_type": "code",
   "execution_count": 4,
   "metadata": {
    "collapsed": true,
    "scrolled": true
   },
   "outputs": [],
   "source": [
    "# Split bgr color channels\n",
    "blue,green,red = cv2.split(src)\n",
    "gray = cv2.cvtColor(src , cv2.COLOR_BGR2GRAY) # Convert color form BGR to Gray"
   ]
  },
  {
   "cell_type": "code",
   "execution_count": 5,
   "metadata": {
    "collapsed": true
   },
   "outputs": [],
   "source": [
    "# Convert color form BGR to Y_Cr_Cb\n",
    "YCrCb = cv2.cvtColor(src , cv2.COLOR_RGB2YCR_CB)\n",
    "# Split Y_Cb_Cr channelsx\n",
    "Y,Cb,Cr = cv2.split(YCrCb)"
   ]
  },
  {
   "cell_type": "code",
   "execution_count": 6,
   "metadata": {},
   "outputs": [
    {
     "data": {
      "text/plain": [
       "<matplotlib.image.AxesImage at 0x19b2173a518>"
      ]
     },
     "execution_count": 6,
     "metadata": {},
     "output_type": "execute_result"
    },
    {
     "data": {
      "image/png": "[encoded data removed]",
      "text/plain": [
       "<matplotlib.figure.Figure at 0x19b2129dc18>"
      ]
     },
     "metadata": {},
     "output_type": "display_data"
    }
   ],
   "source": [
    "plt.figure(figsize=(15,5))\n",
    "plt.subplot(141)\n",
    "plt.title('src')\n",
    "plt.imshow(src)\n",
    "plt.subplot(142)\n",
    "plt.title('Y')\n",
    "plt.imshow(Y)\n",
    "plt.subplot(143)\n",
    "plt.title('Cb')\n",
    "plt.imshow(Cb)\n",
    "plt.subplot(144)\n",
    "plt.title('Cr')\n",
    "plt.imshow(Cr)"
   ]
  },
  {
   "cell_type": "code",
   "execution_count": 7,
   "metadata": {
    "collapsed": true
   },
   "outputs": [],
   "source": [
    "# The strategy of subsampling is to keep the top left pixel for each 2x2 block\n",
    "# We can also compute the mean of 2x2 block, the let it be the summary of the small block\n",
    "def subsample(src):\n",
    "    tmp = []\n",
    "    for i in range(0,len(src),2):\n",
    "        #print(i)\n",
    "        #print(Cb[i])\n",
    "        #print(Cb[i][::2])\n",
    "        tmp.append(src[i][::2])\n",
    "        #print(tmp)\n",
    "    tmp = np.array(tmp)\n",
    "    return tmp"
   ]
  },
  {
   "cell_type": "code",
   "execution_count": 8,
   "metadata": {
    "collapsed": true
   },
   "outputs": [],
   "source": [
    "Y1 = Y[:8,:8]\n",
    "Y2 = Y[:8,8:]\n",
    "Y3 = Y[8:,:8]\n",
    "Y4 = Y[8:,8:]\n",
    "subsample_Cb = subsample(Cb)\n",
    "subsample_Cr = subsample(Cr)"
   ]
  },
  {
   "cell_type": "code",
   "execution_count": 9,
   "metadata": {},
   "outputs": [
    {
     "data": {
      "text/plain": [
       "<matplotlib.image.AxesImage at 0x19b21897710>"
      ]
     },
     "execution_count": 9,
     "metadata": {},
     "output_type": "execute_result"
    },
    {
     "data": {
      "image/png": "[encoded data removed]",
      "text/plain": [
       "<matplotlib.figure.Figure at 0x19b21916710>"
      ]
     },
     "metadata": {},
     "output_type": "display_data"
    }
   ],
   "source": [
    "plt.figure(figsize=(14,7))\n",
    "plt.subplot(241)\n",
    "plt.title('Y1')\n",
    "plt.imshow(Y1)\n",
    "plt.subplot(242)\n",
    "plt.title('Y2')\n",
    "plt.imshow(Y2)\n",
    "plt.subplot(243)\n",
    "plt.title('subsample_Cb')\n",
    "plt.imshow(subsample_Cb)\n",
    "plt.subplot(244)\n",
    "plt.title('subsample_Cr')\n",
    "plt.imshow(subsample_Cr)\n",
    "plt.subplot(245)\n",
    "plt.title('Y3')\n",
    "plt.imshow(Y3)\n",
    "plt.subplot(246)\n",
    "plt.title('Y4')\n",
    "plt.imshow(Y4)"
   ]
  },
  {
   "cell_type": "code",
   "execution_count": 10,
   "metadata": {
    "collapsed": true
   },
   "outputs": [],
   "source": [
    "def dct(y):\n",
    "    F = fft.dct(fft.dct(y, axis=0, norm='ortho', type=2), axis=1, norm='ortho', type=2)\n",
    "    #F[0,0]=F[0,0]/64.\n",
    "    return F\n",
    "def idct(y):\n",
    "    #F[0,0]=F[0,0]*64\n",
    "    return fft.idct(fft.idct(y, axis=0, norm='ortho', type=2), axis=1, norm='ortho', type=2)"
   ]
  },
  {
   "cell_type": "code",
   "execution_count": 11,
   "metadata": {
    "collapsed": true
   },
   "outputs": [],
   "source": [
    "dct2_Y1 = dct(Y1)\n",
    "dct2_Y2 = dct(Y2)\n",
    "dct2_Y3 = dct(Y3)\n",
    "dct2_Y4 = dct(Y4)\n",
    "dct2_Cb = dct(subsample_Cb)\n",
    "dct2_Cr = dct(subsample_Cr)"
   ]
  },
  {
   "cell_type": "code",
   "execution_count": 12,
   "metadata": {},
   "outputs": [
    {
     "data": {
      "text/plain": [
       "array([[  6.99750000e+02,  -3.35348737e+02,   1.31377086e+02,\n",
       "         -3.04739953e+00,  -1.03500000e+02,   6.05659323e+01,\n",
       "         -2.38405911e+01,  -1.39939598e+01],\n",
       "       [ -3.09614405e+02,  -1.81399766e+02,   1.17724898e+02,\n",
       "          2.79423371e+01,  -3.23646559e+01,   4.58216797e+01,\n",
       "          1.23194052e+01,  -1.25649752e+01],\n",
       "       [  1.21942966e+02,   1.00525874e+02,  -7.47517857e+01,\n",
       "         -1.15207174e+01,   2.03337986e+01,  -4.54742780e+01,\n",
       "          1.86776695e+01,  -1.25004193e+01],\n",
       "       [  1.36344832e+01,   2.68849955e+01,  -4.87574365e+00,\n",
       "          1.98814768e+00,   1.15333329e+01,  -3.00803214e+00,\n",
       "          2.38709645e+00,   2.09535593e+00],\n",
       "       [ -1.00000000e+02,  -4.12940145e+01,   2.44680428e+01,\n",
       "          6.61863408e+00,  -4.25000000e+00,   8.76631883e-01,\n",
       "          1.53012215e+01,  -1.15803525e+01],\n",
       "       [  5.77053477e+01,   3.80026238e+01,  -3.87724844e+01,\n",
       "         -4.19001266e+00,   3.73531361e+00,  -2.50746738e+01,\n",
       "          1.20074492e+01,  -1.10414114e+01],\n",
       "       [ -9.37952678e+00,   1.34499141e+01,   1.66776695e+01,\n",
       "          1.77209259e-01,   1.51194952e+01,   9.32438852e+00,\n",
       "         -4.74821433e+00,   1.02847178e+01],\n",
       "       [ -2.14706567e+01,  -1.77469557e+01,  -7.55207038e+00,\n",
       "          1.10472719e+00,  -9.44371275e+00,  -1.11556426e+01,\n",
       "          1.20246135e+01,  -1.35137076e+01]])"
      ]
     },
     "execution_count": 12,
     "metadata": {},
     "output_type": "execute_result"
    }
   ],
   "source": [
    "dct2_Y1"
   ]
  },
  {
   "cell_type": "code",
   "execution_count": 13,
   "metadata": {},
   "outputs": [
    {
     "data": {
      "text/plain": [
       "<matplotlib.image.AxesImage at 0x19b21abacf8>"
      ]
     },
     "execution_count": 13,
     "metadata": {},
     "output_type": "execute_result"
    },
    {
     "data": {
      "image/png": "[encoded data removed]",
      "text/plain": [
       "<matplotlib.figure.Figure at 0x19b2102cf98>"
      ]
     },
     "metadata": {},
     "output_type": "display_data"
    }
   ],
   "source": [
    "plt.figure(figsize=(12,6))\n",
    "plt.subplot(241)\n",
    "plt.title('dct2_Y1')\n",
    "plt.imshow(dct2_Y1)\n",
    "plt.subplot(242)\n",
    "plt.title('dct2_Y2')\n",
    "plt.imshow(dct2_Y2)\n",
    "plt.subplot(243)\n",
    "plt.title('dct2_Cb')\n",
    "plt.imshow(dct2_Cb)\n",
    "plt.subplot(244)\n",
    "plt.title('dct2_Cr')\n",
    "plt.imshow(dct2_Cr)\n",
    "plt.subplot(245)\n",
    "plt.title('dct2_Y3')\n",
    "plt.imshow(dct2_Y3)\n",
    "plt.subplot(246)\n",
    "plt.title('dct2_Y4')\n",
    "plt.imshow(dct2_Y4)"
   ]
  },
  {
   "cell_type": "code",
   "execution_count": 14,
   "metadata": {},
   "outputs": [
    {
     "data": {
      "text/plain": [
       "matrix([[ 16,  11,  10,  16,  24,  40,  51,  61],\n",
       "        [ 12,  12,  14,  19,  26,  58,  60,  55],\n",
       "        [ 14,  13,  16,  24,  40,  57,  69,  56],\n",
       "        [ 14,  17,  22,  29,  51,  87,  80,  62],\n",
       "        [ 18,  22,  37,  56,  68, 109, 103,  77],\n",
       "        [ 24,  35,  55,  64,  81, 104, 113,  92],\n",
       "        [ 49,  64,  78,  87, 103, 121, 120, 101],\n",
       "        [ 72,  92,  95,  98, 112, 100, 103,  99]])"
      ]
     },
     "execution_count": 14,
     "metadata": {},
     "output_type": "execute_result"
    }
   ],
   "source": [
    "# Define quantization matrix\n",
    "# Source: https://en.wikipedia.org/wiki/MPEG-1#Quantization\n",
    "quantization_matrix = np.matrix('16 11 10 16 24 40 51 61;12 12 14 19 26 58 60 55;14 13 16 24 40 57 69 56;14 17 22 29 51 87 80 62;18 22 37 56 68 109 103 77;24 35 55 64 81 104 113 92;49 64 78 87 103 121 120 101;72 92 95 98 112 100 103 99')\n",
    "quantization_matrix"
   ]
  },
  {
   "cell_type": "code",
   "execution_count": 15,
   "metadata": {
    "collapsed": true
   },
   "outputs": [],
   "source": [
    "# Quantization function\n",
    "def quantize(F,QF):\n",
    "    quant_matrix=np.ceil(quantization_matrix*QF)\n",
    "    #print(quant_matrix)\n",
    "    quant_matrix[quant_matrix>255]=255\n",
    "    #print(F,quant_matrix)\n",
    "    return (F/quant_matrix).astype(np.int)"
   ]
  },
  {
   "cell_type": "code",
   "execution_count": 16,
   "metadata": {
    "collapsed": true
   },
   "outputs": [],
   "source": [
    "# manual way\n",
    "def quantize1(F,QF):\n",
    "    quant_matrix=np.ceil(quantization_matrix*QF)\n",
    "    quant_matrix[quant_matrix>255]=255\n",
    "    tmp = []\n",
    "    for i in range(8):\n",
    "        for j in range(8):\n",
    "            #print(quant_matrix.A[i][j])\n",
    "            tmp.append(int(round(F[i][j]/quant_matrix.A[i][j])))\n",
    "    print(np.array(tmp).reshape(8,8))"
   ]
  },
  {
   "cell_type": "code",
   "execution_count": 17,
   "metadata": {
    "collapsed": true
   },
   "outputs": [],
   "source": [
    "QF = 1 ######## CHANGE THIS TO CONTROL QUALITY. Recommend [0.1, 2]#######\n",
    "qtz_Y1 = quantize(dct2_Y1,QF) \n",
    "qtz_Y2 = quantize(dct2_Y2,QF) \n",
    "qtz_Y3 = quantize(dct2_Y3,QF) \n",
    "qtz_Y4 = quantize(dct2_Y4,QF) \n",
    "qtz_Cb = quantize(dct2_Cb,QF) \n",
    "qtz_Cr = quantize(dct2_Cr,QF) "
   ]
  },
  {
   "cell_type": "code",
   "execution_count": 18,
   "metadata": {
    "scrolled": false
   },
   "outputs": [
    {
     "name": "stdout",
     "output_type": "stream",
     "text": [
      "[[  6.99750000e+02  -3.35348737e+02   1.31377086e+02  -3.04739953e+00\n",
      "   -1.03500000e+02   6.05659323e+01  -2.38405911e+01  -1.39939598e+01]\n",
      " [ -3.09614405e+02  -1.81399766e+02   1.17724898e+02   2.79423371e+01\n",
      "   -3.23646559e+01   4.58216797e+01   1.23194052e+01  -1.25649752e+01]\n",
      " [  1.21942966e+02   1.00525874e+02  -7.47517857e+01  -1.15207174e+01\n",
      "    2.03337986e+01  -4.54742780e+01   1.86776695e+01  -1.25004193e+01]\n",
      " [  1.36344832e+01   2.68849955e+01  -4.87574365e+00   1.98814768e+00\n",
      "    1.15333329e+01  -3.00803214e+00   2.38709645e+00   2.09535593e+00]\n",
      " [ -1.00000000e+02  -4.12940145e+01   2.44680428e+01   6.61863408e+00\n",
      "   -4.25000000e+00   8.76631883e-01   1.53012215e+01  -1.15803525e+01]\n",
      " [  5.77053477e+01   3.80026238e+01  -3.87724844e+01  -4.19001266e+00\n",
      "    3.73531361e+00  -2.50746738e+01   1.20074492e+01  -1.10414114e+01]\n",
      " [ -9.37952678e+00   1.34499141e+01   1.66776695e+01   1.77209259e-01\n",
      "    1.51194952e+01   9.32438852e+00  -4.74821433e+00   1.02847178e+01]\n",
      " [ -2.14706567e+01  -1.77469557e+01  -7.55207038e+00   1.10472719e+00\n",
      "   -9.44371275e+00  -1.11556426e+01   1.20246135e+01  -1.35137076e+01]]\n"
     ]
    }
   ],
   "source": [
    "print(dct2_Y1)"
   ]
  },
  {
   "cell_type": "code",
   "execution_count": 19,
   "metadata": {},
   "outputs": [
    {
     "data": {
      "text/plain": [
       "matrix([[45,  2, 14, -3, -2,  0,  0,  0],\n",
       "        [ 0,  0,  2,  0,  0,  0,  0,  0],\n",
       "        [10,  0,  2, -1,  0,  0,  0,  0],\n",
       "        [-2,  0, -1,  0,  0,  0,  0,  0],\n",
       "        [-3,  0,  0,  0,  0,  0,  0,  0],\n",
       "        [ 0,  0,  0,  0,  0,  0,  0,  0],\n",
       "        [ 0,  0,  0,  0,  0,  0,  0,  0],\n",
       "        [ 0,  0,  0,  0,  0,  0,  0,  0]])"
      ]
     },
     "execution_count": 19,
     "metadata": {},
     "output_type": "execute_result"
    }
   ],
   "source": [
    "qtz_Cb"
   ]
  },
  {
   "cell_type": "code",
   "execution_count": 20,
   "metadata": {
    "collapsed": true
   },
   "outputs": [],
   "source": [
    "# takes a series of integers, returns the number of prefix 0s\n",
    "def prefix_0(s):\n",
    "    if len(s)==0:\n",
    "        return 0\n",
    "    i=0\n",
    "    count = 0\n",
    "    while s[i]==0 :\n",
    "        count+=1\n",
    "        #print(i,len(s)-1)\n",
    "        if i==len(s)-1:\n",
    "            return count\n",
    "        i+=1\n",
    "    return count"
   ]
  },
  {
   "cell_type": "code",
   "execution_count": 21,
   "metadata": {
    "collapsed": true,
    "scrolled": true
   },
   "outputs": [],
   "source": [
    "# This is an array of indices that we use to sample a flattened DCT array in zigzag order.\n",
    "zz_indices = [ 0,  1,  8, 16,  9,  2,  3, 10,\n",
    "               17, 24, 32, 25, 18, 11, 4,  5,\n",
    "               12, 19, 26, 33, 40, 48, 41, 34,\n",
    "               27, 20, 13,  6,  7, 14, 21, 28,\n",
    "               35, 42, 49, 56, 57, 50, 43, 36,\n",
    "               29, 22, 15, 23, 30, 37, 44, 51,\n",
    "               58, 59, 52, 45, 38, 31, 39, 46,\n",
    "               53, 60, 61, 54, 47, 55, 62, 63]"
   ]
  },
  {
   "cell_type": "code",
   "execution_count": 22,
   "metadata": {},
   "outputs": [
    {
     "name": "stdout",
     "output_type": "stream",
     "text": [
      "64\n",
      "[43, -30, -25, 8, -15, 13, 0, 8, 7, 0, -5, 1, -4, 1, -4, 1, -1, 0, 0, -1, 2, 0, 1, 0, 0, 0, 0, 0, 0, 0, 0, 0, 0, 0, 0, 0, 0, 0, 0, 0, 0, 0, 0, 0, 0, 0, 0, 0, 0, 0, 0, 0, 0, 0, 0, 0, 0, 0, 0, 0, 0, 0, 0, 0]\n"
     ]
    }
   ],
   "source": [
    "# convert the flattened list to the zigzaged order\n",
    "zz_series = [qtz_Y1.A1[i] for i in zz_indices]\n",
    "print(len(zz_series))\n",
    "print(zz_series)"
   ]
  },
  {
   "cell_type": "code",
   "execution_count": 23,
   "metadata": {
    "collapsed": true,
    "scrolled": true
   },
   "outputs": [],
   "source": [
    "# process the middle part -- <run, level>\n",
    "# takes a list of numbers\n",
    "# return a list of <run, level> pair\n",
    "def run_level(tmp):\n",
    "    encoded_string = []\n",
    "    while True:\n",
    "        #print(tmp)\n",
    "        a = prefix_0(tmp)\n",
    "        #print(a,len(tmp))\n",
    "        if a==len(tmp):\n",
    "            break\n",
    "        #print([a,tmp[a]])\n",
    "        encoded_string.append([a,tmp[a]])\n",
    "        tmp = tmp[a+1:]\n",
    "    return encoded_string"
   ]
  },
  {
   "cell_type": "code",
   "execution_count": 24,
   "metadata": {
    "collapsed": true
   },
   "outputs": [],
   "source": [
    "# takes a zigzag series of coeffs\n",
    "# returns a list, in the form <DC term> <run, level> <EOB>\n",
    "def zigzag_from_flattened_block(tmp):\n",
    "    encoded_string = [tmp[0]]\n",
    "    encoded_string += run_level(tmp[1:])\n",
    "    encoded_string.append('EOB')\n",
    "    return encoded_string"
   ]
  },
  {
   "cell_type": "code",
   "execution_count": 25,
   "metadata": {
    "collapsed": true
   },
   "outputs": [],
   "source": [
    "# takes a list, in the form <DC term> <run, level> <EOB>\n",
    "# returns a zigzag series of coeffs\n",
    "def zigzag_to_flattened_block(encoded_string):\n",
    "    rst = [encoded_string[0]]\n",
    "    for i in encoded_string[1:-1]:\n",
    "        #print(i)\n",
    "        for _ in range(i[0]):\n",
    "            rst.append(0)\n",
    "        rst.append(i[1])\n",
    "    #print(16-len(rst))\n",
    "    for i in range(64-len(rst)):\n",
    "        rst.append(0)\n",
    "    return rst"
   ]
  },
  {
   "cell_type": "code",
   "execution_count": 26,
   "metadata": {},
   "outputs": [
    {
     "name": "stdout",
     "output_type": "stream",
     "text": [
      "[1, 2, 0, 0, 1, 0, 0, 0, 2, 0, 3, 0, 0, 0, 0, 0]\n",
      "[1, [0, 2], [2, 1], [3, 2], [1, 3], 'EOB']\n",
      "[1, 2, 0, 0, 1, 0, 0, 0, 2, 0, 3, 0, 0, 0, 0, 0, 0, 0, 0, 0, 0, 0, 0, 0, 0, 0, 0, 0, 0, 0, 0, 0, 0, 0, 0, 0, 0, 0, 0, 0, 0, 0, 0, 0, 0, 0, 0, 0, 0, 0, 0, 0, 0, 0, 0, 0, 0, 0, 0, 0, 0, 0, 0, 0]\n"
     ]
    }
   ],
   "source": [
    "# a simple example of encoding and decoding\n",
    "tmp = [1,2,0,0,1,0,0,0,2,0,3,0,0,0,0,0]\n",
    "encoded = zigzag_from_flattened_block(tmp)\n",
    "decoded = zigzag_to_flattened_block(encoded)\n",
    "print(tmp)\n",
    "print(encoded)\n",
    "print(decoded) #decoded list has extra zeros because it only works for 8x8 blocks, but this example has less elements."
   ]
  },
  {
   "cell_type": "code",
   "execution_count": 27,
   "metadata": {
    "scrolled": true
   },
   "outputs": [
    {
     "name": "stdout",
     "output_type": "stream",
     "text": [
      "[43, -30, -25, 8, -15, 13, 0, 8, 7, 0, -5, 1, -4, 1, -4, 1, -1, 0, 0, -1, 2, 0, 1, 0, 0, 0, 0, 0, 0, 0, 0, 0, 0, 0, 0, 0, 0, 0, 0, 0, 0, 0, 0, 0, 0, 0, 0, 0, 0, 0, 0, 0, 0, 0, 0, 0, 0, 0, 0, 0, 0, 0, 0, 0] 64 \n",
      "\n",
      "[43, [0, -30], [0, -25], [0, 8], [0, -15], [0, 13], [1, 8], [0, 7], [1, -5], [0, 1], [0, -4], [0, 1], [0, -4], [0, 1], [0, -1], [2, -1], [0, 2], [1, 1], 'EOB'] \n",
      "\n",
      "[43, -30, -25, 8, -15, 13, 0, 8, 7, 0, -5, 1, -4, 1, -4, 1, -1, 0, 0, -1, 2, 0, 1, 0, 0, 0, 0, 0, 0, 0, 0, 0, 0, 0, 0, 0, 0, 0, 0, 0, 0, 0, 0, 0, 0, 0, 0, 0, 0, 0, 0, 0, 0, 0, 0, 0, 0, 0, 0, 0, 0, 0, 0, 0] 64\n"
     ]
    }
   ],
   "source": [
    "# encoding and decoding Y1\n",
    "print(zz_series,len(zz_series),\"\\n\")\n",
    "encoded = zigzag_from_flattened_block(zz_series)\n",
    "print(encoded,\"\\n\")\n",
    "decoded = zigzag_to_flattened_block(encoded)\n",
    "print(decoded,len(decoded))"
   ]
  },
  {
   "cell_type": "code",
   "execution_count": 28,
   "metadata": {
    "collapsed": true
   },
   "outputs": [],
   "source": [
    "reversed_zz_indices = [0, 1, 5, 6, 14,15,27,28,\n",
    "                       2, 4, 7, 13,16,26,29,42,\n",
    "                       3, 8, 12,17,25,30,41,43,\n",
    "                       9, 11,18,24,31,40,44,53,\n",
    "                       10,19,23,32,39,45,52,54,\n",
    "                       20,22,33,38,46,51,55,60,\n",
    "                       21,34,37,47,50,56,59,61,\n",
    "                       35,36,48,49,57,58,62,63]"
   ]
  },
  {
   "cell_type": "code",
   "execution_count": 29,
   "metadata": {},
   "outputs": [
    {
     "data": {
      "text/plain": [
       "matrix([[ 43, -30,  13,   0,  -4,   1,   0,   0],\n",
       "        [-25, -15,   8,   1,  -1,   0,   0,   0],\n",
       "        [  8,   7,  -4,   0,   0,   0,   0,   0],\n",
       "        [  0,   1,   0,   0,   0,   0,   0,   0],\n",
       "        [ -5,  -1,   0,   0,   0,   0,   0,   0],\n",
       "        [  2,   1,   0,   0,   0,   0,   0,   0],\n",
       "        [  0,   0,   0,   0,   0,   0,   0,   0],\n",
       "        [  0,   0,   0,   0,   0,   0,   0,   0]])"
      ]
     },
     "execution_count": 29,
     "metadata": {},
     "output_type": "execute_result"
    }
   ],
   "source": [
    "qtz_Y1"
   ]
  },
  {
   "cell_type": "code",
   "execution_count": 30,
   "metadata": {
    "collapsed": true
   },
   "outputs": [],
   "source": [
    "de_flattened = np.array([decoded[i] for i in reversed_zz_indices]).reshape(8,8)"
   ]
  },
  {
   "cell_type": "code",
   "execution_count": 31,
   "metadata": {
    "collapsed": true
   },
   "outputs": [],
   "source": [
    "### doesn't correct. don't know why ###\n",
    "def de_quantize(F):\n",
    "    quant_matrix=np.ceil(quantization_matrix*QF)\n",
    "    #print(quant_matrix)\n",
    "    quant_matrix[quant_matrix>255]=255\n",
    "    print(quant_matrix)\n",
    "    print(F)\n",
    "    return (F*quant_matrix).astype(np.int)"
   ]
  },
  {
   "cell_type": "code",
   "execution_count": 32,
   "metadata": {
    "collapsed": true
   },
   "outputs": [],
   "source": [
    "# manual way\n",
    "def de_quantize1(F,QF):\n",
    "    quant_matrix=np.ceil(quantization_matrix*QF)\n",
    "    quant_matrix[quant_matrix>255]=255\n",
    "    tmp = []\n",
    "    for i in range(8):\n",
    "        for j in range(8):\n",
    "            \n",
    "            #tmp1 = F[i][j]*quant_matrix.A[i][j]\n",
    "            #print(tmp1)\n",
    "            tmp.append(int(F[i][j]*quant_matrix.A[i][j]))\n",
    "    return np.array(tmp).reshape(8,8)"
   ]
  },
  {
   "cell_type": "code",
   "execution_count": 33,
   "metadata": {},
   "outputs": [
    {
     "data": {
      "text/plain": [
       "array([[ 43, -30,  13,   0,  -4,   1,   0,   0],\n",
       "       [-25, -15,   8,   1,  -1,   0,   0,   0],\n",
       "       [  8,   7,  -4,   0,   0,   0,   0,   0],\n",
       "       [  0,   1,   0,   0,   0,   0,   0,   0],\n",
       "       [ -5,  -1,   0,   0,   0,   0,   0,   0],\n",
       "       [  2,   1,   0,   0,   0,   0,   0,   0],\n",
       "       [  0,   0,   0,   0,   0,   0,   0,   0],\n",
       "       [  0,   0,   0,   0,   0,   0,   0,   0]])"
      ]
     },
     "execution_count": 33,
     "metadata": {},
     "output_type": "execute_result"
    }
   ],
   "source": [
    "de_flattened"
   ]
  },
  {
   "cell_type": "code",
   "execution_count": 34,
   "metadata": {},
   "outputs": [
    {
     "data": {
      "text/plain": [
       "array([[ 688, -330,  130,    0,  -96,   40,    0,    0],\n",
       "       [-300, -180,  112,   19,  -26,    0,    0,    0],\n",
       "       [ 112,   91,  -64,    0,    0,    0,    0,    0],\n",
       "       [   0,   17,    0,    0,    0,    0,    0,    0],\n",
       "       [ -90,  -22,    0,    0,    0,    0,    0,    0],\n",
       "       [  48,   35,    0,    0,    0,    0,    0,    0],\n",
       "       [   0,    0,    0,    0,    0,    0,    0,    0],\n",
       "       [   0,    0,    0,    0,    0,    0,    0,    0]])"
      ]
     },
     "execution_count": 34,
     "metadata": {},
     "output_type": "execute_result"
    }
   ],
   "source": [
    "de_quantized = de_quantize1(de_flattened,QF)\n",
    "de_quantized"
   ]
  },
  {
   "cell_type": "code",
   "execution_count": 35,
   "metadata": {},
   "outputs": [
    {
     "data": {
      "text/plain": [
       "array([[ 699, -335,  131,   -3, -103,   60,  -23,  -13],\n",
       "       [-309, -181,  117,   27,  -32,   45,   12,  -12],\n",
       "       [ 121,  100,  -74,  -11,   20,  -45,   18,  -12],\n",
       "       [  13,   26,   -4,    1,   11,   -3,    2,    2],\n",
       "       [-100,  -41,   24,    6,   -4,    0,   15,  -11],\n",
       "       [  57,   38,  -38,   -4,    3,  -25,   12,  -11],\n",
       "       [  -9,   13,   16,    0,   15,    9,   -4,   10],\n",
       "       [ -21,  -17,   -7,    1,   -9,  -11,   12,  -13]])"
      ]
     },
     "execution_count": 35,
     "metadata": {},
     "output_type": "execute_result"
    }
   ],
   "source": [
    "### compared to original dct matrix ###\n",
    "dct2_Y1.astype(int)"
   ]
  },
  {
   "cell_type": "code",
   "execution_count": 36,
   "metadata": {
    "collapsed": true
   },
   "outputs": [],
   "source": [
    "# the ultimate goal here is to regenerate the original picture"
   ]
  },
  {
   "cell_type": "code",
   "execution_count": 37,
   "metadata": {},
   "outputs": [
    {
     "data": {
      "text/plain": [
       "array([[ -5,   4,   2, -15,   8,  94, 147, 129],\n",
       "       [ -9,  -1,  -1, -14,  13, 106, 168, 157],\n",
       "       [  5,  10,   7,  -7,  19, 110, 176, 171],\n",
       "       [  0,   3,   1, -11,  11,  97, 162, 160],\n",
       "       [  3,  10,  16,   9,  27, 100, 155, 153],\n",
       "       [ 87,  96, 105,  95,  95, 137, 168, 153],\n",
       "       [144, 157, 173, 163, 146, 162, 168, 141],\n",
       "       [109, 129, 158, 158, 143, 152, 151, 120]])"
      ]
     },
     "execution_count": 37,
     "metadata": {},
     "output_type": "execute_result"
    }
   ],
   "source": [
    "regenerated = idct(de_quantized).astype(int)\n",
    "regenerated"
   ]
  },
  {
   "cell_type": "code",
   "execution_count": 38,
   "metadata": {},
   "outputs": [
    {
     "data": {
      "text/plain": [
       "array([[  0,   0,   0,   0,   0, 110, 132, 138],\n",
       "       [  0,   0,   0,   0,   0, 104, 193, 150],\n",
       "       [  0,   0,   0,   0,   0, 104, 192, 154],\n",
       "       [  0,   0,   0,   0,   0, 104, 191, 152],\n",
       "       [  0,   0,   0,   0,   0, 104, 189, 151],\n",
       "       [110, 110, 110, 110, 110, 110, 186, 147],\n",
       "       [113, 182, 183, 181, 181, 179, 145, 145],\n",
       "       [107, 147, 149, 147, 146, 145, 144, 143]], dtype=uint8)"
      ]
     },
     "execution_count": 38,
     "metadata": {},
     "output_type": "execute_result"
    }
   ],
   "source": [
    "### compared to original Y matrix ###\n",
    "Y1"
   ]
  },
  {
   "cell_type": "code",
   "execution_count": 39,
   "metadata": {},
   "outputs": [
    {
     "data": {
      "text/plain": [
       "<matplotlib.image.AxesImage at 0x19b21dbbd68>"
      ]
     },
     "execution_count": 39,
     "metadata": {},
     "output_type": "execute_result"
    },
    {
     "data": {
      "image/png": "[encoded data removed]",
      "text/plain": [
       "<matplotlib.figure.Figure at 0x19b21b775c0>"
      ]
     },
     "metadata": {},
     "output_type": "display_data"
    }
   ],
   "source": [
    "plt.figure(figsize=(10,5))\n",
    "plt.subplot(121)\n",
    "plt.title('decoded QF={}'.format(QF))\n",
    "plt.imshow(regenerated)\n",
    "plt.subplot(122)\n",
    "plt.title('Y1')\n",
    "plt.imshow(Y1)"
   ]
  },
  {
   "cell_type": "code",
   "execution_count": 40,
   "metadata": {
    "collapsed": true
   },
   "outputs": [],
   "source": [
    "def rescue_code(function):\n",
    "    import inspect\n",
    "    get_ipython().set_next_input(\"\".join(inspect.getsourcelines(function)[0]))"
   ]
  },
  {
   "cell_type": "code",
   "execution_count": 41,
   "metadata": {
    "collapsed": true
   },
   "outputs": [],
   "source": [
    "img_name = 'Add.png'\n",
    "src = cv2.imread(img_name,1)[:16,:16]"
   ]
  },
  {
   "cell_type": "code",
   "execution_count": 42,
   "metadata": {
    "collapsed": true
   },
   "outputs": [],
   "source": [
    "# takes a 16*16*3 block, returns a list of encoded [<DC term> <run, level> <EOB>]\n",
    "def encode(src,QF):\n",
    "    YCrCb = cv2.cvtColor(src , cv2.COLOR_RGB2YCR_CB)\n",
    "    Y,Cb,Cr = cv2.split(YCrCb)\n",
    "\n",
    "    Y1 = Y[:8,:8]\n",
    "    Y2 = Y[:8,8:]\n",
    "    Y3 = Y[8:,:8]\n",
    "    Y4 = Y[8:,8:]\n",
    "    subsample_Cb = subsample(Cb)\n",
    "    subsample_Cr = subsample(Cr)\n",
    "    \n",
    "    def dct_quantize_zz(F):\n",
    "        dct2_F = dct(F)\n",
    "        qtz_F = quantize(dct2_F,QF)\n",
    "        zz_series = [qtz_F.A1[i] for i in zz_indices]\n",
    "        encoded = zigzag_from_flattened_block(zz_series)\n",
    "        return encoded\n",
    "    \n",
    "    return [dct_quantize_zz(Y1),dct_quantize_zz(Y2),dct_quantize_zz(Y3),dct_quantize_zz(Y4),\n",
    "            dct_quantize_zz(subsample_Cb),dct_quantize_zz(subsample_Cr)]"
   ]
  },
  {
   "cell_type": "code",
   "execution_count": 43,
   "metadata": {
    "collapsed": true
   },
   "outputs": [],
   "source": [
    "QF=0.3\n",
    "encoded = encode(src,QF)\n",
    "#print(encoded)"
   ]
  },
  {
   "cell_type": "code",
   "execution_count": 44,
   "metadata": {
    "collapsed": true
   },
   "outputs": [],
   "source": [
    "def decode(F,QF):\n",
    "    rst = []\n",
    "    for i in F:\n",
    "        decoded_F = zigzag_to_flattened_block(i)\n",
    "        #print(\"decoded_F\",decoded_F)\n",
    "        de_flattened_F = np.array([decoded_F[i] for i in reversed_zz_indices]).reshape(8,8)\n",
    "        #print(111,de_flattened_F)\n",
    "        de_quantized_F = de_quantize1(de_flattened_F,QF)\n",
    "        regenerated_F = idct(de_quantized_F).astype(int)\n",
    "        rst.append(regenerated_F)\n",
    "    Y1,Y2,Y3,Y4,subsample_Cb,subsample_Cr = rst\n",
    "    rst=[]\n",
    "    for i in range(8):\n",
    "        tmp = list(Y1[i])+list(Y2[i])\n",
    "        rst+=tmp\n",
    "    #print(rst)\n",
    "    for i in range(8):\n",
    "        tmp = list(Y3[i])+list(Y4[i])\n",
    "        rst+=tmp\n",
    "    regenerated_Y = np.array(rst).reshape(16,16)\n",
    "    return regenerated_Y\n",
    "    #return regenerated"
   ]
  },
  {
   "cell_type": "code",
   "execution_count": 45,
   "metadata": {
    "collapsed": true
   },
   "outputs": [],
   "source": [
    "regenerated_Y = decode(encoded,QF)"
   ]
  },
  {
   "cell_type": "code",
   "execution_count": 46,
   "metadata": {},
   "outputs": [
    {
     "data": {
      "text/plain": [
       "<matplotlib.image.AxesImage at 0x19b21e92208>"
      ]
     },
     "execution_count": 46,
     "metadata": {},
     "output_type": "execute_result"
    },
    {
     "data": {
      "image/png": "[encoded data removed]",
      "text/plain": [
       "<matplotlib.figure.Figure at 0x19b21e19240>"
      ]
     },
     "metadata": {},
     "output_type": "display_data"
    }
   ],
   "source": [
    "plt.figure(figsize=(10,5))\n",
    "plt.subplot(121)\n",
    "plt.title('decoded QF={}'.format(QF))\n",
    "plt.imshow(regenerated_Y)\n",
    "plt.subplot(122)\n",
    "plt.title('Y')\n",
    "plt.imshow(Y)"
   ]
  }
 ],
 "metadata": {
  "kernelspec": {
   "display_name": "Python 3",
   "language": "python",
   "name": "python3"
  },
  "language_info": {
   "codemirror_mode": {
    "name": "ipython",
    "version": 3
   },
   "file_extension": ".py",
   "mimetype": "text/x-python",
   "name": "python",
   "nbconvert_exporter": "python",
   "pygments_lexer": "ipython3",
   "version": "3.6.3"
  }
 },
 "nbformat": 4,
 "nbformat_minor": 2
}
