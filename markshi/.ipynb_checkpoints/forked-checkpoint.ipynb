{
 "cells": [
  {
   "cell_type": "markdown",
   "metadata": {},
   "source": [
    "Process_image.py - takes as input 16x16x3 matrix, corresponding to a Macroblock of the image\n",
    "Outputs the result of the DCT transformation and Quantization\n",
    "Inputs - M, the Macroblock\n",
    "\t\t Q, the image compression quality, used in quanitzation\n",
    "Output - B, collection of blocks followign transformation/quantization\n",
    "Written by Jonathan Chamberlain - jdchambo@bu.edu"
   ]
  },
  {
   "cell_type": "code",
   "execution_count": 11,
   "metadata": {
    "collapsed": true
   },
   "outputs": [],
   "source": [
    "import numpy as np\n",
    "import sys\n",
    "import cv2\n",
    "import matplotlib.pyplot as plt\n",
    "%matplotlib inline\n",
    "from numpy import empty,arange,exp,real,imag,pi\n",
    "from numpy.fft import rfft,irfft"
   ]
  },
  {
   "cell_type": "markdown",
   "metadata": {},
   "source": [
    "Definitions for 2D DCT\n",
    "Functions origionally written by Mark Newman <mejn@umich.edu>\n",
    "Accessed from http://www-personal.umich.edu/~mejn/computational-physics/dcst.py\n",
    "Source contains blurb : \"You may use, share, or modify this file freely\""
   ]
  },
  {
   "cell_type": "code",
   "execution_count": 5,
   "metadata": {
    "collapsed": true
   },
   "outputs": [],
   "source": [
    "#### 2D DCT ####\n",
    "def dct2(y):\n",
    "    def dct(y):\n",
    "        N = len(y)\n",
    "        y2 = empty(2*N,float)\n",
    "        y2[:N] = y[:]\n",
    "        y2[N:] = y[::-1]\n",
    "\n",
    "        c = rfft(y2)\n",
    "        phi = exp(-1j*pi*arange(N)/(2*N))\n",
    "        return real(phi*c[:N])\n",
    "    \n",
    "    M = y.shape[0]\n",
    "    N = y.shape[1]\n",
    "    a = empty([M,N],float)\n",
    "    b = empty([M,N],float)\n",
    "\n",
    "    for i in range(M):\n",
    "        a[i,:] = dct(y[i,:])\n",
    "    for j in range(N):\n",
    "        b[:,j] = dct(a[:,j])\n",
    "\n",
    "    return b"
   ]
  },
  {
   "cell_type": "code",
   "execution_count": 38,
   "metadata": {},
   "outputs": [
    {
     "data": {
      "text/plain": [
       "<matplotlib.image.AxesImage at 0x24b087be470>"
      ]
     },
     "execution_count": 38,
     "metadata": {},
     "output_type": "execute_result"
    },
    {
     "data": {
      "image/png": "[encoded data removed]",
      "text/plain": [
       "<matplotlib.figure.Figure at 0x24b08687e80>"
      ]
     },
     "metadata": {},
     "output_type": "display_data"
    }
   ],
   "source": [
    "#Beginning of process_image\n",
    "img_name = 'Add.png'\n",
    "rgb = M = cv2.imread(img_name,1)\n",
    "Q = 50\n",
    "plt.imshow(M)"
   ]
  },
  {
   "cell_type": "code",
   "execution_count": 29,
   "metadata": {},
   "outputs": [
    {
     "data": {
      "text/plain": [
       "<matplotlib.image.AxesImage at 0x24b085c4d68>"
      ]
     },
     "execution_count": 29,
     "metadata": {},
     "output_type": "execute_result"
    },
    {
     "data": {
      "image/png": "[encoded data removed]",
      "text/plain": [
       "<matplotlib.figure.Figure at 0x24b085406d8>"
      ]
     },
     "metadata": {},
     "output_type": "display_data"
    }
   ],
   "source": [
    "plt.title('16*16')\n",
    "plt.imshow(M)"
   ]
  },
  {
   "cell_type": "code",
   "execution_count": 21,
   "metadata": {},
   "outputs": [],
   "source": [
    "# define individual blocks B1, B2, B3, B4, S.t. M is subdivided as\n",
    "# B1 | B2\n",
    "# _  _ _\n",
    "# B3 | B4\n",
    "\n",
    "# These blocks will contain the Y' component of the coloration of the pixel\n",
    "B1 = np.zeros(shape=(8,8))\n",
    "B2 = np.zeros(shape=(8,8))\n",
    "B3 = np.zeros(shape=(8,8))\n",
    "B4 = np.zeros(shape=(8,8))\n",
    "\n",
    "# We subsample the Rb, Rr components to compress data - take data from B1 block only \n",
    "Bb = np.zeros(shape=(8,8))\n",
    "Br = np.zeros(shape=(8,8))\n",
    "# populate B1, B2, B3, B4, Bb, Br with image data\n",
    "# data in M stored as RGB, convert to Y'RbRr - use JPEG standard"
   ]
  },
  {
   "cell_type": "code",
   "execution_count": 34,
   "metadata": {
    "scrolled": true
   },
   "outputs": [],
   "source": [
    "blue,green,red = cv2.split(M)\n",
    "gray = cv2.cvtColor(M , cv2.COLOR_BGR2GRAY) "
   ]
  },
  {
   "cell_type": "code",
   "execution_count": 37,
   "metadata": {},
   "outputs": [
    {
     "data": {
      "text/plain": [
       "<matplotlib.image.AxesImage at 0x24b08611f60>"
      ]
     },
     "execution_count": 37,
     "metadata": {},
     "output_type": "execute_result"
    },
    {
     "data": {
      "image/png": "[encoded data removed]",
      "text/plain": [
       "<matplotlib.figure.Figure at 0x24b0876bc88>"
      ]
     },
     "metadata": {},
     "output_type": "display_data"
    }
   ],
   "source": [
    "plt.figure(figsize=(15,5))\n",
    "plt.subplot(151)\n",
    "plt.title('rgb')\n",
    "plt.imshow(rgb)\n",
    "plt.subplot(152)\n",
    "plt.title('red')\n",
    "plt.imshow(red)\n",
    "plt.subplot(153)\n",
    "plt.title('green')\n",
    "plt.imshow(green)\n",
    "plt.subplot(154)\n",
    "plt.title('blue')\n",
    "plt.imshow(blue)\n",
    "plt.subplot(155)\n",
    "plt.title('gray')\n",
    "plt.imshow(gray)"
   ]
  },
  {
   "cell_type": "code",
   "execution_count": 60,
   "metadata": {},
   "outputs": [],
   "source": [
    "R = M[:,:,0]\n",
    "G = M[:,:,1]\n",
    "B = M[:,:,2]\n",
    "for i in range(0,8):\n",
    "    for j in range(0,8):\n",
    "        B1[i,j] = (0.299*R[i,j])+(0.587*G[i,j])+(0.114*B[i,j])\n",
    "        B2[i,j] = (0.299*R[i,j+8])+(0.587*G[i,j+8])+(0.114*B[i,j+8])\n",
    "        B3[i,j] = (0.299*R[i+8,j])+(0.587*G[i+8,j])+(0.114*B[i+8,j])\n",
    "        B4[i,j] = (0.299*R[i+8,j+8])+(0.587*G[i+8,j+8])+(0.114*B[i+8,j+8])\n",
    "        Bb[i,j] = 128 - (0.168736*R[i,j]) - (0.331264*G[i,j]) + (0.5*B[i,j])\n",
    "        Br[i,j] = 128 + (0.5*R[i,j]) - (0.418688*G[i,j])- (0.081312*B[i,j])"
   ]
  },
  {
   "cell_type": "code",
   "execution_count": 42,
   "metadata": {
    "collapsed": true
   },
   "outputs": [],
   "source": [
    "YCrCb = cv2.cvtColor(rgb , cv2.COLOR_RGB2YCR_CB) \n",
    "Y,Cb,Cr = cv2.split(YCrCb)"
   ]
  },
  {
   "cell_type": "code",
   "execution_count": 67,
   "metadata": {},
   "outputs": [
    {
     "data": {
      "text/plain": [
       "<matplotlib.image.AxesImage at 0x24b0a5279b0>"
      ]
     },
     "execution_count": 67,
     "metadata": {},
     "output_type": "execute_result"
    },
    {
     "data": {
      "image/png": "[encoded data removed]",
      "text/plain": [
       "<matplotlib.figure.Figure at 0x24b092114e0>"
      ]
     },
     "metadata": {},
     "output_type": "display_data"
    }
   ],
   "source": [
    "plt.figure(figsize=(15,5))\n",
    "plt.subplot(151)\n",
    "plt.title('rgb')\n",
    "plt.imshow(rgb)\n",
    "plt.subplot(152)\n",
    "plt.title('Y')\n",
    "plt.imshow(Y)\n",
    "plt.subplot(153)\n",
    "plt.title('Cb')\n",
    "plt.imshow(Cb)\n",
    "plt.subplot(154)\n",
    "plt.title('Cr')\n",
    "plt.imshow(Cr)\n",
    "plt.subplot(155)\n",
    "plt.title('gray')\n",
    "plt.imshow(gray)"
   ]
  },
  {
   "cell_type": "code",
   "execution_count": 74,
   "metadata": {},
   "outputs": [],
   "source": [
    "Y1 = Y[:8,:8]\n",
    "Y2 = Y[:8,8:]\n",
    "Y3 = Y[8:,:8]\n",
    "Y4 = Y[8:,8:]\n",
    "Cb1 = Cb[:8,:8]\n",
    "Cr1 = Cr[:8,:8]"
   ]
  },
  {
   "cell_type": "code",
   "execution_count": 101,
   "metadata": {},
   "outputs": [
    {
     "data": {
      "text/plain": [
       "<matplotlib.image.AxesImage at 0x24b0cd96f28>"
      ]
     },
     "execution_count": 101,
     "metadata": {},
     "output_type": "execute_result"
    },
    {
     "data": {
      "image/png": "[encoded data removed]",
      "text/plain": [
       "<matplotlib.figure.Figure at 0x24b0cd68ef0>"
      ]
     },
     "metadata": {},
     "output_type": "display_data"
    }
   ],
   "source": [
    "plt.subplot(241)\n",
    "plt.title('Y1')\n",
    "plt.imshow(Y1)\n",
    "plt.subplot(242)\n",
    "plt.title('Y2')\n",
    "plt.imshow(Y2)\n",
    "plt.subplot(243)\n",
    "plt.title('Cb1')\n",
    "plt.imshow(Cb1)\n",
    "plt.subplot(245)\n",
    "plt.title('Y3')\n",
    "plt.imshow(Y3)\n",
    "plt.subplot(246)\n",
    "plt.title('Y4')\n",
    "plt.imshow(Y4)\n",
    "plt.subplot(244)\n",
    "plt.title('Cr1')\n",
    "plt.imshow(Cr1)"
   ]
  },
  {
   "cell_type": "code",
   "execution_count": 76,
   "metadata": {},
   "outputs": [],
   "source": [
    "dct2_Y1 = dct2(Y1) \n",
    "dct2_Y2 = dct2(Y2) \n",
    "dct2_Y3 = dct2(Y3) \n",
    "dct2_Y4 = dct2(Y4) \n",
    "dct2_Cb1 = dct2(Cb1) \n",
    "dct2_Cr1 = dct2(Cr1) "
   ]
  },
  {
   "cell_type": "code",
   "execution_count": 111,
   "metadata": {},
   "outputs": [
    {
     "data": {
      "text/plain": [
       "<matplotlib.image.AxesImage at 0x24b0d190da0>"
      ]
     },
     "execution_count": 111,
     "metadata": {},
     "output_type": "execute_result"
    },
    {
     "data": {
      "image/png": "[encoded data removed]",
      "text/plain": [
       "<matplotlib.figure.Figure at 0x24b0ca0ec88>"
      ]
     },
     "metadata": {},
     "output_type": "display_data"
    }
   ],
   "source": [
    "plt.subplot(241)\n",
    "plt.title('dct2_Y1')\n",
    "plt.imshow(dct2_Y1)\n",
    "plt.subplot(242)\n",
    "plt.title('dct2_Y2')\n",
    "plt.imshow(dct2_Y2)\n",
    "plt.subplot(243)\n",
    "plt.title('dct2_Cb1')\n",
    "plt.imshow(dct2_Cb1)\n",
    "plt.subplot(245)\n",
    "plt.title('dct2_Y3')\n",
    "plt.imshow(dct2_Y3)\n",
    "plt.subplot(246)\n",
    "plt.title('dct2_Y4')\n",
    "plt.imshow(dct2_Y4)\n",
    "plt.subplot(244)\n",
    "plt.title('dct2_Cr1')\n",
    "plt.imshow(dct2_Cr1)"
   ]
  },
  {
   "cell_type": "code",
   "execution_count": null,
   "metadata": {
    "collapsed": true
   },
   "outputs": [],
   "source": [
    "#Quantization steps for each matrix\n",
    "#define base quantization matrix - taken from IJG standard \n",
    "Qb = numpy.matrix('16 11 10 16 24 40 51 61;12 12 14 19 26 58 60 55;14 13 16 24 40 57 69 56;14 17 22 29 51 87 80 62;18 22 37 56 68 109 103 77;24 35 55 64 81 104 113 92;49 64 78 87 103 121 120 101;72 92 95 98 112 100 103 99') \n",
    "\n",
    "# from quaity factor, determine multiplication factor for quantization\n",
    "if Q < 50:\n",
    "    S = 5000/Q;\n",
    "else:\n",
    "    S = 200 - 2*Q;"
   ]
  },
  {
   "cell_type": "code",
   "execution_count": null,
   "metadata": {
    "collapsed": true
   },
   "outputs": [],
   "source": [
    "# determine quantized matrix result\n",
    "for i in range (0,8):\n",
    "    for j in range (0,8):\n",
    "        Qf = (S*Qb[i,j] + 50) // 100\n",
    "        if Qf == 0:\n",
    "            Qf = 1\n",
    "        B1[i,j] = B1[i,j] // Qf\n",
    "        B2[i,j] = B2[i,j] // Qf\n",
    "        B3[i,j] = B3[i,j] // Qf\n",
    "        B4[i,j] = B4[i,j] // Qf\n",
    "        Bb[i,j] = Bb[i,j] // Qf\n",
    "        Br[i,j] = Br[i,j] // Qf\n",
    "        \n",
    "# define the collection of the 6 processed blocks, and return\n",
    "B = [B1, B2, B3, B4, Bb, Br]"
   ]
  }
 ],
 "metadata": {
  "kernelspec": {
   "display_name": "Python 3",
   "language": "python",
   "name": "python3"
  },
  "language_info": {
   "codemirror_mode": {
    "name": "ipython",
    "version": 3
   },
   "file_extension": ".py",
   "mimetype": "text/x-python",
   "name": "python",
   "nbconvert_exporter": "python",
   "pygments_lexer": "ipython3",
   "version": "3.6.3"
  }
 },
 "nbformat": 4,
 "nbformat_minor": 2
}
