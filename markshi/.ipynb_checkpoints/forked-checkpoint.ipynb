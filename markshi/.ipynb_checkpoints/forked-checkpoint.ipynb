{
 "cells": [
  {
   "cell_type": "markdown",
   "metadata": {},
   "source": [
    "Process_image.py - takes as input 16x16x3 matrix, corresponding to a Macroblock of the image\n",
    "\n",
    "Outputs the result of the DCT transformation and Quantization"
   ]
  },
  {
   "cell_type": "code",
   "execution_count": 1,
   "metadata": {
    "collapsed": true
   },
   "outputs": [],
   "source": [
    "import numpy as np\n",
    "import sys\n",
    "import cv2\n",
    "import matplotlib.pyplot as plt\n",
    "%matplotlib inline\n",
    "from numpy import empty,arange,exp,real,imag,pi\n",
    "from numpy.fft import rfft,irfft"
   ]
  },
  {
   "cell_type": "code",
   "execution_count": 2,
   "metadata": {
    "collapsed": true
   },
   "outputs": [],
   "source": [
    "#### 2D DCT ####\n",
    "#Functions origionally written by Mark Newman <mejn@umich.edu>\n",
    "#Accessed from http://www-personal.umich.edu/~mejn/computational-physics/dcst.py\n",
    "#Source contains blurb : \"You may use, share, or modify this file freely\"\n",
    "def dct2(y):\n",
    "    def dct(y):\n",
    "        N = len(y)\n",
    "        y2 = empty(2*N,float)\n",
    "        y2[:N] = y[:]\n",
    "        y2[N:] = y[::-1]\n",
    "\n",
    "        c = rfft(y2)\n",
    "        phi = exp(-1j*pi*arange(N)/(2*N))\n",
    "        return real(phi*c[:N])\n",
    "    \n",
    "    M = y.shape[0]\n",
    "    N = y.shape[1]\n",
    "    a = empty([M,N],float)\n",
    "    b = empty([M,N],float)\n",
    "\n",
    "    for i in range(M):\n",
    "        a[i,:] = dct(y[i,:])\n",
    "    for j in range(N):\n",
    "        b[:,j] = dct(a[:,j])\n",
    "\n",
    "    return b"
   ]
  },
  {
   "cell_type": "code",
   "execution_count": 3,
   "metadata": {},
   "outputs": [],
   "source": [
    "#img_name = 'Add.png' #!Not a good example,since it varies too much!\n",
    "img_name = 'cameraman.png'\n",
    "rgb = cv2.imread(img_name,1)[:16,:16]\n",
    "QF = 1"
   ]
  },
  {
   "cell_type": "code",
   "execution_count": 4,
   "metadata": {},
   "outputs": [
    {
     "data": {
      "text/plain": [
       "<matplotlib.image.AxesImage at 0x24c0b8e4be0>"
      ]
     },
     "execution_count": 4,
     "metadata": {},
     "output_type": "execute_result"
    },
    {
     "data": {
      "image/png": "[encoded data removed]",
      "text/plain": [
       "<matplotlib.figure.Figure at 0x24c0b782198>"
      ]
     },
     "metadata": {},
     "output_type": "display_data"
    }
   ],
   "source": [
    "plt.title('16*16')\n",
    "plt.imshow(rgb)"
   ]
  },
  {
   "cell_type": "code",
   "execution_count": 5,
   "metadata": {
    "scrolled": true
   },
   "outputs": [
    {
     "data": {
      "text/plain": [
       "\"\\nplt.figure(figsize=(15,5))\\nplt.subplot(151)\\nplt.title('rgb')\\nplt.imshow(rgb)\\nplt.subplot(152)\\nplt.title('red')\\nplt.imshow(red)\\nplt.subplot(153)\\nplt.title('green')\\nplt.imshow(green)\\nplt.subplot(154)\\nplt.title('blue')\\nplt.imshow(blue)\\nplt.subplot(155)\\nplt.title('gray')\\nplt.imshow(gray)\\n\""
      ]
     },
     "execution_count": 5,
     "metadata": {},
     "output_type": "execute_result"
    }
   ],
   "source": [
    "# Split bgr color channels\n",
    "blue,green,red = cv2.split(rgb)\n",
    "gray = cv2.cvtColor(rgb , cv2.COLOR_BGR2GRAY) # Convert color form BGR to Gray\n",
    "\"\"\"\n",
    "plt.figure(figsize=(15,5))\n",
    "plt.subplot(151)\n",
    "plt.title('rgb')\n",
    "plt.imshow(rgb)\n",
    "plt.subplot(152)\n",
    "plt.title('red')\n",
    "plt.imshow(red)\n",
    "plt.subplot(153)\n",
    "plt.title('green')\n",
    "plt.imshow(green)\n",
    "plt.subplot(154)\n",
    "plt.title('blue')\n",
    "plt.imshow(blue)\n",
    "plt.subplot(155)\n",
    "plt.title('gray')\n",
    "plt.imshow(gray)\n",
    "\"\"\""
   ]
  },
  {
   "cell_type": "code",
   "execution_count": 6,
   "metadata": {
    "collapsed": true
   },
   "outputs": [],
   "source": [
    "# Convert color form BGR to Y_Cr_Cb\n",
    "YCrCb = cv2.cvtColor(rgb , cv2.COLOR_RGB2YCR_CB)\n",
    "# Split Y_Cb_Cr channels\n",
    "Y,Cb,Cr = cv2.split(YCrCb)"
   ]
  },
  {
   "cell_type": "code",
   "execution_count": 7,
   "metadata": {},
   "outputs": [
    {
     "data": {
      "text/plain": [
       "<matplotlib.image.AxesImage at 0x24c0bec2400>"
      ]
     },
     "execution_count": 7,
     "metadata": {},
     "output_type": "execute_result"
    },
    {
     "data": {
      "image/png": "[encoded data removed]",
      "text/plain": [
       "<matplotlib.figure.Figure at 0x24c0b8fc0f0>"
      ]
     },
     "metadata": {},
     "output_type": "display_data"
    }
   ],
   "source": [
    "plt.figure(figsize=(15,5))\n",
    "plt.subplot(151)\n",
    "plt.title('rgb')\n",
    "plt.imshow(rgb)\n",
    "plt.subplot(152)\n",
    "plt.title('Y')\n",
    "plt.imshow(Y)\n",
    "plt.subplot(153)\n",
    "plt.title('Cb')\n",
    "plt.imshow(Cb)\n",
    "plt.subplot(154)\n",
    "plt.title('Cr')\n",
    "plt.imshow(Cr)\n",
    "plt.subplot(155)\n",
    "plt.title('gray')\n",
    "plt.imshow(gray)"
   ]
  },
  {
   "cell_type": "code",
   "execution_count": 8,
   "metadata": {
    "collapsed": true
   },
   "outputs": [],
   "source": [
    "Y1 = Y[:8,:8]\n",
    "Y2 = Y[:8,8:]\n",
    "Y3 = Y[8:,:8]\n",
    "Y4 = Y[8:,8:]"
   ]
  },
  {
   "cell_type": "code",
   "execution_count": 9,
   "metadata": {
    "collapsed": true
   },
   "outputs": [],
   "source": [
    "# The strategy of subsampling is to keep the top left pixel for each 2x2 block\n",
    "# We can also compute the mean of 2x2 block, the let it be the summary of the small block\n",
    "def subsample(src):\n",
    "    tmp = []\n",
    "    for i in range(0,len(src),2):\n",
    "        #print(i)\n",
    "        #print(Cb[i])\n",
    "        #print(Cb[i][::2])\n",
    "        tmp.append(src[i][::2])\n",
    "        #print(tmp)\n",
    "    tmp = np.array(tmp)\n",
    "    return tmp"
   ]
  },
  {
   "cell_type": "code",
   "execution_count": 10,
   "metadata": {
    "collapsed": true
   },
   "outputs": [],
   "source": [
    "subsample_Cb = subsample(Cb)\n",
    "subsample_Cr = subsample(Cr)"
   ]
  },
  {
   "cell_type": "code",
   "execution_count": 11,
   "metadata": {},
   "outputs": [
    {
     "data": {
      "text/plain": [
       "<matplotlib.image.AxesImage at 0x24c0bffb6a0>"
      ]
     },
     "execution_count": 11,
     "metadata": {},
     "output_type": "execute_result"
    },
    {
     "data": {
      "image/png": "[encoded data removed]",
      "text/plain": [
       "<matplotlib.figure.Figure at 0x24c0ba69e80>"
      ]
     },
     "metadata": {},
     "output_type": "display_data"
    }
   ],
   "source": [
    "plt.figure(figsize=(10,5))\n",
    "plt.subplot(241)\n",
    "plt.title('Y1')\n",
    "plt.imshow(Y1)\n",
    "plt.subplot(242)\n",
    "plt.title('Y2')\n",
    "plt.imshow(Y2)\n",
    "plt.subplot(243)\n",
    "plt.title('subsample_Cb')\n",
    "plt.imshow(subsample_Cb)\n",
    "plt.subplot(244)\n",
    "plt.title('subsample_Cr')\n",
    "plt.imshow(subsample_Cr)\n",
    "plt.subplot(245)\n",
    "plt.title('Y3')\n",
    "plt.imshow(Y3)\n",
    "plt.subplot(246)\n",
    "plt.title('Y4')\n",
    "plt.imshow(Y4)"
   ]
  },
  {
   "cell_type": "code",
   "execution_count": 12,
   "metadata": {
    "collapsed": true
   },
   "outputs": [],
   "source": [
    "dct2_Y1 = dct2(Y1) \n",
    "dct2_Y2 = dct2(Y2) \n",
    "dct2_Y3 = dct2(Y3) \n",
    "dct2_Y4 = dct2(Y4) \n",
    "dct2_Cb = dct2(subsample_Cb) \n",
    "dct2_Cr = dct2(subsample_Cr) "
   ]
  },
  {
   "cell_type": "code",
   "execution_count": 13,
   "metadata": {},
   "outputs": [
    {
     "data": {
      "text/plain": [
       "<matplotlib.image.AxesImage at 0x24c0c29b320>"
      ]
     },
     "execution_count": 13,
     "metadata": {},
     "output_type": "execute_result"
    },
    {
     "data": {
      "image/png": "[encoded data removed]",
      "text/plain": [
       "<matplotlib.figure.Figure at 0x24c0c02a908>"
      ]
     },
     "metadata": {},
     "output_type": "display_data"
    }
   ],
   "source": [
    "plt.figure(figsize=(10,5))\n",
    "plt.subplot(241)\n",
    "plt.title('dct2_Y1')\n",
    "plt.imshow(dct2_Y1)\n",
    "plt.subplot(242)\n",
    "plt.title('dct2_Y2')\n",
    "plt.imshow(dct2_Y2)\n",
    "plt.subplot(243)\n",
    "plt.title('dct2_Cb')\n",
    "plt.imshow(dct2_Cb)\n",
    "plt.subplot(244)\n",
    "plt.title('dct2_Cr')\n",
    "plt.imshow(dct2_Cr)\n",
    "plt.subplot(245)\n",
    "plt.title('dct2_Y3')\n",
    "plt.imshow(dct2_Y3)\n",
    "plt.subplot(246)\n",
    "plt.title('dct2_Y4')\n",
    "plt.imshow(dct2_Y4)"
   ]
  },
  {
   "cell_type": "code",
   "execution_count": 102,
   "metadata": {},
   "outputs": [
    {
     "data": {
      "text/plain": [
       "matrix([[ 16,  11,  10,  16,  24,  40,  51,  61],\n",
       "        [ 12,  12,  14,  19,  26,  58,  60,  55],\n",
       "        [ 14,  13,  16,  24,  40,  57,  69,  56],\n",
       "        [ 14,  17,  22,  29,  51,  87,  80,  62],\n",
       "        [ 18,  22,  37,  56,  68, 109, 103,  77],\n",
       "        [ 24,  35,  55,  64,  81, 104, 113,  92],\n",
       "        [ 49,  64,  78,  87, 103, 121, 120, 101],\n",
       "        [ 72,  92,  95,  98, 112, 100, 103,  99]])"
      ]
     },
     "execution_count": 102,
     "metadata": {},
     "output_type": "execute_result"
    }
   ],
   "source": [
    "# Define quantization matrix\n",
    "# Source: https://en.wikipedia.org/wiki/MPEG-1#Quantization\n",
    "quant_intra = np.matrix('16 11 10 16 24 40 51 61;12 12 14 19 26 58 60 55;14 13 16 24 40 57 69 56;14 17 22 29 51 87 80 62;18 22 37 56 68 109 103 77;24 35 55 64 81 104 113 92;49 64 78 87 103 121 120 101;72 92 95 98 112 100 103 99')\n",
    "quant_intra"
   ]
  },
  {
   "cell_type": "code",
   "execution_count": 134,
   "metadata": {
    "collapsed": true
   },
   "outputs": [],
   "source": [
    "# Quantization function\n",
    "def quantize(F,QF):\n",
    "    quant_matrix=np.ceil(quant_intra*QF)\n",
    "    #print(quant_matrix)\n",
    "    quant_matrix[quant_matrix>255]=255\n",
    "    #print(quant_matrix)\n",
    "    return (F/quant_matrix).astype(np.int)"
   ]
  },
  {
   "cell_type": "code",
   "execution_count": 148,
   "metadata": {},
   "outputs": [
    {
     "name": "stdout",
     "output_type": "stream",
     "text": [
      "[[2510   -4    1    1    2    1    1    0]\n",
      " [   7   -1    1    1   -1    0   -1    1]\n",
      " [   3    1    3   -1   -1    0    0    0]\n",
      " [  -8    0   -2    0    0    0    0    0]\n",
      " [   4    0    0    0    0    0    0    0]\n",
      " [  -2    0    0    0   -1    0    0    0]\n",
      " [   1    0    0    0    0   -1    0    0]\n",
      " [  -1    0    0    0    0    0   -1    1]]\n"
     ]
    }
   ],
   "source": [
    "# manual way\n",
    "def quantize1(F,QF):\n",
    "    quant_matrix=np.ceil(quant_intra*QF)\n",
    "    quant_matrix[quant_matrix>255]=255\n",
    "    tmp = []\n",
    "    for i in range(8):\n",
    "        for j in range(8):\n",
    "            #print(quant_matrix.A[i][j])\n",
    "            tmp.append(int(round(F[i][j]/quant_matrix.A[i][j])))\n",
    "    print(np.array(tmp).reshape(8,8))"
   ]
  },
  {
   "cell_type": "code",
   "execution_count": 135,
   "metadata": {},
   "outputs": [],
   "source": [
    "QF = 1\n",
    "qtz_Y1 = quantize(dct2_Y1,QF) \n",
    "qtz_Y2 = quantize(dct2_Y2,QF) \n",
    "qtz_Y3 = quantize(dct2_Y3,QF) \n",
    "qtz_Y4 = quantize(dct2_Y4,QF) \n",
    "qtz_Cb = quantize(dct2_Cb,QF) \n",
    "qtz_Cr = quantize(dct2_Cr,QF) "
   ]
  },
  {
   "cell_type": "code",
   "execution_count": 136,
   "metadata": {
    "scrolled": false
   },
   "outputs": [
    {
     "name": "stdout",
     "output_type": "stream",
     "text": [
      "[[  4.01560000e+04  -4.46012546e+01   1.48908584e+01   1.06560374e+01\n",
      "    5.37401154e+01   2.35450955e+01   5.81228211e+01  -1.12607918e+01]\n",
      " [  8.64425471e+01  -1.14641449e+01   8.44843913e+00   1.15528775e+01\n",
      "   -3.12585257e+01   3.24693411e+00  -3.67647830e+01   6.40274682e+01]\n",
      " [  4.62483696e+01   8.21517941e+00   5.38406204e+01  -2.30499891e+01\n",
      "   -3.79287876e+01  -2.53690656e+01  -7.75735931e+00  -1.04729850e+01]\n",
      " [ -1.13090565e+02   1.30970834e+00  -5.06838209e+01  -7.40317521e+00\n",
      "    1.45765418e+01  -1.45436945e+01   8.54502848e+00  -4.61606904e+00]\n",
      " [  7.63675324e+01  -6.95616136e+00   5.14932861e+00   9.92400700e+00\n",
      "    1.40000000e+01   4.63832782e+00  -3.46046878e+01   8.46237669e+00]\n",
      " [ -4.70420350e+01   1.47582047e+01   1.80745991e+01  -2.28279657e+01\n",
      "   -4.09441817e+01   7.75758212e-01   6.02547078e+00   2.27655525e+01]\n",
      " [  4.51341147e+01  -1.16476419e+01   1.62426407e+01  -2.21790810e+01\n",
      "   -3.40794230e+01  -8.70110095e+01  -3.38406204e+01  -1.20598903e+01]\n",
      " [ -6.46626414e+01   1.57431969e+01  -2.02805342e+01  -3.27027782e+01\n",
      "   -2.03470633e+01  -6.58925808e+00  -6.08671495e+01   5.00915619e+01]]\n"
     ]
    }
   ],
   "source": [
    "print(dct2_Y1)"
   ]
  },
  {
   "cell_type": "code",
   "execution_count": 149,
   "metadata": {},
   "outputs": [
    {
     "data": {
      "text/plain": [
       "matrix([[2509,   -4,    1,    0,    2,    0,    1,    0],\n",
       "        [   7,    0,    0,    0,   -1,    0,    0,    1],\n",
       "        [   3,    0,    3,    0,    0,    0,    0,    0],\n",
       "        [  -8,    0,   -2,    0,    0,    0,    0,    0],\n",
       "        [   4,    0,    0,    0,    0,    0,    0,    0],\n",
       "        [  -1,    0,    0,    0,    0,    0,    0,    0],\n",
       "        [   0,    0,    0,    0,    0,    0,    0,    0],\n",
       "        [   0,    0,    0,    0,    0,    0,    0,    0]])"
      ]
     },
     "execution_count": 149,
     "metadata": {},
     "output_type": "execute_result"
    }
   ],
   "source": [
    "qtz_Y1"
   ]
  },
  {
   "cell_type": "code",
   "execution_count": 99,
   "metadata": {
    "collapsed": true
   },
   "outputs": [],
   "source": [
    "# takes a series of integers, returns the number of prefix 0s\n",
    "def prefix_0(s):\n",
    "    if len(s)==0:\n",
    "        return 0\n",
    "    i=0\n",
    "    count = 0\n",
    "    while s[i]==0 :\n",
    "        count+=1\n",
    "        #print(i,len(s)-1)\n",
    "        if i==len(s)-1:\n",
    "            return count\n",
    "        i+=1\n",
    "    return count"
   ]
  },
  {
   "cell_type": "code",
   "execution_count": 20,
   "metadata": {
    "collapsed": true,
    "scrolled": true
   },
   "outputs": [],
   "source": [
    "# This is an array of indices that we use to sample a flattened DCT array in zigzag order.\n",
    "zz_indices = [ 0,  1,  8, 16,  9,  2,  3, 10,\n",
    "               17, 24, 32, 25, 18, 11, 4,  5,\n",
    "               12, 19, 26, 33, 40, 48, 41, 34,\n",
    "               27, 20, 13,  6,  7, 14, 21, 28,\n",
    "               35, 42, 49, 56, 57, 50, 43, 36,\n",
    "               29, 22, 15, 23, 30, 37, 44, 51,\n",
    "               58, 59, 52, 45, 38, 31, 39, 46,\n",
    "               53, 60, 61, 54, 47, 55, 62, 63]"
   ]
  },
  {
   "cell_type": "code",
   "execution_count": 74,
   "metadata": {},
   "outputs": [
    {
     "name": "stdout",
     "output_type": "stream",
     "text": [
      "64\n",
      "[2510, -4, 7, 3, -1, 1, 1, 1, 1, -8, 4, 0, 3, 1, 2, 1, -1, -1, -2, 0, -2, 1, 0, 0, 0, -1, 0, 1, 0, -1, 0, 0, 0, 0, 0, -1, 0, 0, 0, 0, 0, 0, 1, 0, 0, 0, -1, 0, 0, 0, 0, 0, 0, 0, 0, 0, -1, 0, 0, 0, 0, 0, -1, 1]\n"
     ]
    }
   ],
   "source": [
    "# convert the flattened list to the zigzaged order\n",
    "zz_series = [qtz_Y1.A1[i] for i in zz_indices]\n",
    "print(len(zz_series))\n",
    "print(zz_series)"
   ]
  },
  {
   "cell_type": "code",
   "execution_count": 75,
   "metadata": {
    "collapsed": true,
    "scrolled": true
   },
   "outputs": [],
   "source": [
    "# process the middle part -- <run, level>\n",
    "# takes a list of numbers\n",
    "# return a list of <run, level> pair\n",
    "def run_level(tmp):\n",
    "    encoded_string = []\n",
    "    while True:\n",
    "        #print(tmp)\n",
    "        a = prefix_0(tmp)\n",
    "        #print(a,len(tmp))\n",
    "        if a==len(tmp):\n",
    "            break\n",
    "        #print([a,tmp[a]])\n",
    "        encoded_string.append([a,tmp[a]])\n",
    "        tmp = tmp[a+1:]\n",
    "    return encoded_string"
   ]
  },
  {
   "cell_type": "code",
   "execution_count": 76,
   "metadata": {
    "collapsed": true
   },
   "outputs": [],
   "source": [
    "# takes a zigzag series of coeffs\n",
    "# returns a list, in the form <DC term> <run, level> <EOB>\n",
    "def encode(tmp):\n",
    "    encoded_string = [tmp[0]]\n",
    "    encoded_string += run_level(tmp[1:])\n",
    "    encoded_string.append('EOB')\n",
    "    return encoded_string"
   ]
  },
  {
   "cell_type": "code",
   "execution_count": 78,
   "metadata": {
    "collapsed": true
   },
   "outputs": [],
   "source": [
    "# takes a list, in the form <DC term> <run, level> <EOB>\n",
    "# returns a zigzag series of coeffs\n",
    "def decode(encoded_string):\n",
    "    rst = [encoded_string[0]]\n",
    "    for i in encoded_string[1:-1]:\n",
    "        #print(i)\n",
    "        for _ in range(i[0]):\n",
    "            rst.append(0)\n",
    "        rst.append(i[1])\n",
    "    #print(16-len(rst))\n",
    "    for i in range(63-len(rst)):\n",
    "        rst.append(0)\n",
    "    return rst"
   ]
  },
  {
   "cell_type": "code",
   "execution_count": 166,
   "metadata": {},
   "outputs": [
    {
     "name": "stdout",
     "output_type": "stream",
     "text": [
      "[1, 2, 0, 0, 1, 0, 0, 0, 2, 0, 3, 0, 0, 0, 0, 0]\n",
      "[1, [0, 2], [2, 1], [3, 2], [1, 3], 'EOB']\n",
      "[1, 2, 0, 0, 1, 0, 0, 0, 2, 0, 3, 0, 0, 0, 0, 0, 0, 0, 0, 0, 0, 0, 0, 0, 0, 0, 0, 0, 0, 0, 0, 0, 0, 0, 0, 0, 0, 0, 0, 0, 0, 0, 0, 0, 0, 0, 0, 0, 0, 0, 0, 0, 0, 0, 0, 0, 0, 0, 0, 0, 0, 0, 0]\n"
     ]
    }
   ],
   "source": [
    "# a simple example of encoding and decoding\n",
    "tmp = [1,2,0,0,1,0,0,0,2,0,3,0,0,0,0,0]\n",
    "encoded = encode(tmp)\n",
    "decoded = decode(encoded)\n",
    "print(tmp)\n",
    "print(encoded)\n",
    "print(decoded) #decoded list has extra zeros because it only works for 8x8 blocks, but this example has less elements."
   ]
  },
  {
   "cell_type": "code",
   "execution_count": 80,
   "metadata": {
    "scrolled": true
   },
   "outputs": [
    {
     "name": "stdout",
     "output_type": "stream",
     "text": [
      "[2510, -4, 7, 3, -1, 1, 1, 1, 1, -8, 4, 0, 3, 1, 2, 1, -1, -1, -2, 0, -2, 1, 0, 0, 0, -1, 0, 1, 0, -1, 0, 0, 0, 0, 0, -1, 0, 0, 0, 0, 0, 0, 1, 0, 0, 0, -1, 0, 0, 0, 0, 0, 0, 0, 0, 0, -1, 0, 0, 0, 0, 0, -1, 1] \n",
      "\n",
      "[2510, [0, -4], [0, 7], [0, 3], [0, -1], [0, 1], [0, 1], [0, 1], [0, 1], [0, -8], [0, 4], [1, 3], [0, 1], [0, 2], [0, 1], [0, -1], [0, -1], [0, -2], [1, -2], [0, 1], [3, -1], [1, 1], [1, -1], [5, -1], [6, 1], [3, -1], [9, -1], [5, -1], [0, 1], 'EOB'] \n",
      "\n",
      "[2510, -4, 7, 3, -1, 1, 1, 1, 1, -8, 4, 0, 3, 1, 2, 1, -1, -1, -2, 0, -2, 1, 0, 0, 0, -1, 0, 1, 0, -1, 0, 0, 0, 0, 0, -1, 0, 0, 0, 0, 0, 0, 1, 0, 0, 0, -1, 0, 0, 0, 0, 0, 0, 0, 0, 0, -1, 0, 0, 0, 0, 0, -1, 1]\n"
     ]
    }
   ],
   "source": [
    "# encoding and decoding Y1\n",
    "print(zz_series,\"\\n\")\n",
    "encoded = encode(zz_series)\n",
    "print(encoded,\"\\n\")\n",
    "decoded = decode(encoded)\n",
    "print(decoded)"
   ]
  },
  {
   "cell_type": "code",
   "execution_count": 89,
   "metadata": {
    "collapsed": true
   },
   "outputs": [],
   "source": [
    "reversed_zz_indices = [0, 1, 5, 6, 14,15,27,28,\n",
    "                       2, 4, 7, 13,16,26,29,42,\n",
    "                       3, 8, 12,17,25,30,41,43,\n",
    "                       9, 11,18,24,31,40,44,53,\n",
    "                       10,19,23,32,39,45,52,54,\n",
    "                       20,22,33,38,46,51,55,60,\n",
    "                       21,34,37,47,50,56,59,61,\n",
    "                       35,36,48,49,57,58,62,63]"
   ]
  },
  {
   "cell_type": "code",
   "execution_count": 84,
   "metadata": {},
   "outputs": [
    {
     "data": {
      "text/plain": [
       "matrix([[2510,   -4,    1,    1,    2,    1,    1,    0],\n",
       "        [   7,   -1,    1,    1,   -1,    0,   -1,    1],\n",
       "        [   3,    1,    3,   -1,   -1,    0,    0,    0],\n",
       "        [  -8,    0,   -2,    0,    0,    0,    0,    0],\n",
       "        [   4,    0,    0,    0,    0,    0,    0,    0],\n",
       "        [  -2,    0,    0,    0,   -1,    0,    0,    0],\n",
       "        [   1,    0,    0,    0,    0,   -1,    0,    0],\n",
       "        [  -1,    0,    0,    0,    0,    0,   -1,    1]])"
      ]
     },
     "execution_count": 84,
     "metadata": {},
     "output_type": "execute_result"
    }
   ],
   "source": [
    "qtz_Y1"
   ]
  },
  {
   "cell_type": "code",
   "execution_count": 91,
   "metadata": {},
   "outputs": [],
   "source": [
    "def de_flatten(F):\n",
    "    return np.array([F[i] for i in reversed_zz_indices]).reshape(8,8)"
   ]
  },
  {
   "cell_type": "code",
   "execution_count": 132,
   "metadata": {},
   "outputs": [
    {
     "data": {
      "text/plain": [
       "array([[2510,   -4,    1,    1,    2,    1,    1,    0],\n",
       "       [   7,   -1,    1,    1,   -1,    0,   -1,    1],\n",
       "       [   3,    1,    3,   -1,   -1,    0,    0,    0],\n",
       "       [  -8,    0,   -2,    0,    0,    0,    0,    0],\n",
       "       [   4,    0,    0,    0,    0,    0,    0,    0],\n",
       "       [  -2,    0,    0,    0,   -1,    0,    0,    0],\n",
       "       [   1,    0,    0,    0,    0,   -1,    0,    0],\n",
       "       [  -1,    0,    0,    0,    0,    0,   -1,    1]])"
      ]
     },
     "execution_count": 132,
     "metadata": {},
     "output_type": "execute_result"
    }
   ],
   "source": [
    "de_flattened = de_flatten(decoded)\n",
    "de_flattened"
   ]
  },
  {
   "cell_type": "code",
   "execution_count": 133,
   "metadata": {},
   "outputs": [],
   "source": [
    "### doesn't correct. don't know why ###\n",
    "def de_quantize(F):\n",
    "    quant_matrix=np.ceil(quant_intra*QF)\n",
    "    #print(quant_matrix)\n",
    "    quant_matrix[quant_matrix>255]=255\n",
    "    print(quant_matrix)\n",
    "    print(F)\n",
    "    return (F*quant_matrix).astype(np.int)"
   ]
  },
  {
   "cell_type": "code",
   "execution_count": 159,
   "metadata": {},
   "outputs": [],
   "source": [
    "# manual way\n",
    "def de_quantize1(F,QF):\n",
    "    quant_matrix=np.ceil(quant_intra*QF)\n",
    "    quant_matrix[quant_matrix>255]=255\n",
    "    tmp = []\n",
    "    for i in range(8):\n",
    "        for j in range(8):\n",
    "            #print(quant_matrix.A[i][j])\n",
    "            tmp.append(int(F[i][j]*quant_matrix.A[i][j]))\n",
    "    return np.array(tmp).reshape(8,8)"
   ]
  },
  {
   "cell_type": "code",
   "execution_count": 160,
   "metadata": {},
   "outputs": [
    {
     "data": {
      "text/plain": [
       "array([[40160,   -44,    10,    16,    48,    40,    51,     0],\n",
       "       [   84,   -12,    14,    19,   -26,     0,   -60,    55],\n",
       "       [   42,    13,    48,   -24,   -40,     0,     0,     0],\n",
       "       [ -112,     0,   -44,     0,     0,     0,     0,     0],\n",
       "       [   72,     0,     0,     0,     0,     0,     0,     0],\n",
       "       [  -48,     0,     0,     0,   -81,     0,     0,     0],\n",
       "       [   49,     0,     0,     0,     0,  -121,     0,     0],\n",
       "       [  -72,     0,     0,     0,     0,     0,  -103,    99]])"
      ]
     },
     "execution_count": 160,
     "metadata": {},
     "output_type": "execute_result"
    }
   ],
   "source": [
    "de_quantize1(de_flattened,QF)"
   ]
  },
  {
   "cell_type": "code",
   "execution_count": 163,
   "metadata": {},
   "outputs": [
    {
     "data": {
      "text/plain": [
       "array([[40156,   -44,    14,    10,    53,    23,    58,   -11],\n",
       "       [   86,   -11,     8,    11,   -31,     3,   -36,    64],\n",
       "       [   46,     8,    53,   -23,   -37,   -25,    -7,   -10],\n",
       "       [ -113,     1,   -50,    -7,    14,   -14,     8,    -4],\n",
       "       [   76,    -6,     5,     9,    13,     4,   -34,     8],\n",
       "       [  -47,    14,    18,   -22,   -40,     0,     6,    22],\n",
       "       [   45,   -11,    16,   -22,   -34,   -87,   -33,   -12],\n",
       "       [  -64,    15,   -20,   -32,   -20,    -6,   -60,    50]])"
      ]
     },
     "execution_count": 163,
     "metadata": {},
     "output_type": "execute_result"
    }
   ],
   "source": [
    "### compared to original matrix ###\n",
    "dct2_Y1.astype(int)"
   ]
  },
  {
   "cell_type": "code",
   "execution_count": null,
   "metadata": {
    "collapsed": true
   },
   "outputs": [],
   "source": []
  }
 ],
 "metadata": {
  "kernelspec": {
   "display_name": "Python 3",
   "language": "python",
   "name": "python3"
  },
  "language_info": {
   "codemirror_mode": {
    "name": "ipython",
    "version": 3
   },
   "file_extension": ".py",
   "mimetype": "text/x-python",
   "name": "python",
   "nbconvert_exporter": "python",
   "pygments_lexer": "ipython3",
   "version": "3.6.3"
  }
 },
 "nbformat": 4,
 "nbformat_minor": 2
}
