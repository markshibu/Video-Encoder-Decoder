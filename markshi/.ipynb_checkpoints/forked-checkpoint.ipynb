{
 "cells": [
  {
   "cell_type": "markdown",
   "metadata": {},
   "source": [
    "# Encode & Decode for single block"
   ]
  },
  {
   "cell_type": "markdown",
   "metadata": {},
   "source": [
    "takes a 16x16x3 matrix, corresponding to a Macroblock of the image\n",
    "\n",
    "Outputs the result of the DCT transformation and Quantization"
   ]
  },
  {
   "cell_type": "code",
   "execution_count": 1,
   "metadata": {
    "collapsed": true
   },
   "outputs": [],
   "source": [
    "import numpy as np\n",
    "import sys\n",
    "import cv2\n",
    "import scipy.fftpack as fft\n",
    "import matplotlib.pyplot as plt\n",
    "%matplotlib inline\n",
    "from numpy import empty,arange,exp,real,imag,pi\n",
    "from numpy.fft import rfft,irfft"
   ]
  },
  {
   "cell_type": "code",
   "execution_count": 2,
   "metadata": {
    "collapsed": true
   },
   "outputs": [],
   "source": [
    "img_name = 'Add.png' \n",
    "#img_name = 'cameraman.png'\n",
    "rgb = cv2.imread(img_name,1)[:16,:16]"
   ]
  },
  {
   "cell_type": "code",
   "execution_count": 3,
   "metadata": {},
   "outputs": [
    {
     "data": {
      "text/plain": [
       "<matplotlib.image.AxesImage at 0x112c862e8>"
      ]
     },
     "execution_count": 3,
     "metadata": {},
     "output_type": "execute_result"
    },
    {
     "data": {
      "image/png": "[encoded data removed]",
      "text/plain": [
       "<matplotlib.figure.Figure at 0x10519a128>"
      ]
     },
     "metadata": {},
     "output_type": "display_data"
    }
   ],
   "source": [
    "plt.title('16*16 block')\n",
    "plt.imshow(rgb)"
   ]
  },
  {
   "cell_type": "code",
   "execution_count": 4,
   "metadata": {
    "scrolled": true
   },
   "outputs": [
    {
     "data": {
      "text/plain": [
       "\"\\nplt.figure(figsize=(15,5))\\nplt.subplot(151)\\nplt.title('rgb')\\nplt.imshow(rgb)\\nplt.subplot(152)\\nplt.title('red')\\nplt.imshow(red)\\nplt.subplot(153)\\nplt.title('green')\\nplt.imshow(green)\\nplt.subplot(154)\\nplt.title('blue')\\nplt.imshow(blue)\\nplt.subplot(155)\\nplt.title('gray')\\nplt.imshow(gray)\\n\""
      ]
     },
     "execution_count": 4,
     "metadata": {},
     "output_type": "execute_result"
    }
   ],
   "source": [
    "# Split bgr color channels\n",
    "blue,green,red = cv2.split(rgb)\n",
    "gray = cv2.cvtColor(rgb , cv2.COLOR_BGR2GRAY) # Convert color form BGR to Gray\n",
    "\"\"\"\n",
    "plt.figure(figsize=(15,5))\n",
    "plt.subplot(151)\n",
    "plt.title('rgb')\n",
    "plt.imshow(rgb)\n",
    "plt.subplot(152)\n",
    "plt.title('red')\n",
    "plt.imshow(red)\n",
    "plt.subplot(153)\n",
    "plt.title('green')\n",
    "plt.imshow(green)\n",
    "plt.subplot(154)\n",
    "plt.title('blue')\n",
    "plt.imshow(blue)\n",
    "plt.subplot(155)\n",
    "plt.title('gray')\n",
    "plt.imshow(gray)\n",
    "\"\"\""
   ]
  },
  {
   "cell_type": "code",
   "execution_count": 5,
   "metadata": {
    "collapsed": true
   },
   "outputs": [],
   "source": [
    "# Convert color form BGR to Y_Cr_Cb\n",
    "YCrCb = cv2.cvtColor(rgb , cv2.COLOR_RGB2YCR_CB)\n",
    "# Split Y_Cb_Cr channels\n",
    "Y,Cb,Cr = cv2.split(YCrCb)"
   ]
  },
  {
   "cell_type": "code",
   "execution_count": 6,
   "metadata": {},
   "outputs": [
    {
     "data": {
      "text/plain": [
       "<matplotlib.image.AxesImage at 0x115f71b70>"
      ]
     },
     "execution_count": 6,
     "metadata": {},
     "output_type": "execute_result"
    },
    {
     "data": {
      "image/png": "[encoded data removed]",
      "text/plain": [
       "<matplotlib.figure.Figure at 0x112cb9e10>"
      ]
     },
     "metadata": {},
     "output_type": "display_data"
    }
   ],
   "source": [
    "plt.figure(figsize=(15,5))\n",
    "plt.subplot(141)\n",
    "plt.title('rgb')\n",
    "plt.imshow(rgb)\n",
    "plt.subplot(142)\n",
    "plt.title('Y')\n",
    "plt.imshow(Y)\n",
    "plt.subplot(143)\n",
    "plt.title('Cb')\n",
    "plt.imshow(Cb)\n",
    "plt.subplot(144)\n",
    "plt.title('Cr')\n",
    "plt.imshow(Cr)"
   ]
  },
  {
   "cell_type": "code",
   "execution_count": 7,
   "metadata": {
    "collapsed": true
   },
   "outputs": [],
   "source": [
    "Y1 = Y[:8,:8]\n",
    "Y2 = Y[:8,8:]\n",
    "Y3 = Y[8:,:8]\n",
    "Y4 = Y[8:,8:]"
   ]
  },
  {
   "cell_type": "code",
   "execution_count": 8,
   "metadata": {
    "collapsed": true
   },
   "outputs": [],
   "source": [
    "# The strategy of subsampling is to keep the top left pixel for each 2x2 block\n",
    "# We can also compute the mean of 2x2 block, the let it be the summary of the small block\n",
    "def subsample(src):\n",
    "    tmp = []\n",
    "    for i in range(0,len(src),2):\n",
    "        #print(i)\n",
    "        #print(Cb[i])\n",
    "        #print(Cb[i][::2])\n",
    "        tmp.append(src[i][::2])\n",
    "        #print(tmp)\n",
    "    tmp = np.array(tmp)\n",
    "    return tmp"
   ]
  },
  {
   "cell_type": "code",
   "execution_count": 9,
   "metadata": {
    "collapsed": true
   },
   "outputs": [],
   "source": [
    "subsample_Cb = subsample(Cb)\n",
    "subsample_Cr = subsample(Cr)"
   ]
  },
  {
   "cell_type": "code",
   "execution_count": 10,
   "metadata": {},
   "outputs": [
    {
     "data": {
      "text/plain": [
       "<matplotlib.image.AxesImage at 0x11641f2b0>"
      ]
     },
     "execution_count": 10,
     "metadata": {},
     "output_type": "execute_result"
    },
    {
     "data": {
      "image/png": "[encoded data removed]",
      "text/plain": [
       "<matplotlib.figure.Figure at 0x116139b00>"
      ]
     },
     "metadata": {},
     "output_type": "display_data"
    }
   ],
   "source": [
    "plt.figure(figsize=(14,7))\n",
    "plt.subplot(241)\n",
    "plt.title('Y1')\n",
    "plt.imshow(Y1)\n",
    "plt.subplot(242)\n",
    "plt.title('Y2')\n",
    "plt.imshow(Y2)\n",
    "plt.subplot(243)\n",
    "plt.title('subsample_Cb')\n",
    "plt.imshow(subsample_Cb)\n",
    "plt.subplot(244)\n",
    "plt.title('subsample_Cr')\n",
    "plt.imshow(subsample_Cr)\n",
    "plt.subplot(245)\n",
    "plt.title('Y3')\n",
    "plt.imshow(Y3)\n",
    "plt.subplot(246)\n",
    "plt.title('Y4')\n",
    "plt.imshow(Y4)"
   ]
  },
  {
   "cell_type": "code",
   "execution_count": 11,
   "metadata": {
    "collapsed": true
   },
   "outputs": [],
   "source": [
    "def dct(y):\n",
    "    F = fft.dct(fft.dct(y, axis=0, norm='ortho', type=2), axis=1, norm='ortho', type=2)\n",
    "    #F[0,0]=F[0,0]/64.\n",
    "    return F\n",
    "def idct(y):\n",
    "    #F[0,0]=F[0,0]*64\n",
    "    return fft.idct(fft.idct(y, axis=0, norm='ortho', type=2), axis=1, norm='ortho', type=2)"
   ]
  },
  {
   "cell_type": "code",
   "execution_count": 12,
   "metadata": {},
   "outputs": [],
   "source": [
    "dct2_Y1 = dct(dct(Y1))\n",
    "dct2_Y2 = dct(dct(Y2))\n",
    "dct2_Y3 = dct(dct(Y3))\n",
    "dct2_Y4 = dct(dct(Y4))\n",
    "dct2_Cb = dct(dct(subsample_Cb))\n",
    "dct2_Cr = dct(dct(subsample_Cr))"
   ]
  },
  {
   "cell_type": "code",
   "execution_count": 13,
   "metadata": {},
   "outputs": [
    {
     "data": {
      "text/plain": [
       "array([[  6.99750000e+02,  -3.35348737e+02,   1.31377086e+02,\n",
       "         -3.04739953e+00,  -1.03500000e+02,   6.05659323e+01,\n",
       "         -2.38405911e+01,  -1.39939598e+01],\n",
       "       [ -3.09614405e+02,  -1.81399766e+02,   1.17724898e+02,\n",
       "          2.79423371e+01,  -3.23646559e+01,   4.58216797e+01,\n",
       "          1.23194052e+01,  -1.25649752e+01],\n",
       "       [  1.21942966e+02,   1.00525874e+02,  -7.47517857e+01,\n",
       "         -1.15207174e+01,   2.03337986e+01,  -4.54742780e+01,\n",
       "          1.86776695e+01,  -1.25004193e+01],\n",
       "       [  1.36344832e+01,   2.68849955e+01,  -4.87574365e+00,\n",
       "          1.98814768e+00,   1.15333329e+01,  -3.00803214e+00,\n",
       "          2.38709645e+00,   2.09535593e+00],\n",
       "       [ -1.00000000e+02,  -4.12940145e+01,   2.44680428e+01,\n",
       "          6.61863408e+00,  -4.25000000e+00,   8.76631883e-01,\n",
       "          1.53012215e+01,  -1.15803525e+01],\n",
       "       [  5.77053477e+01,   3.80026238e+01,  -3.87724844e+01,\n",
       "         -4.19001266e+00,   3.73531361e+00,  -2.50746738e+01,\n",
       "          1.20074492e+01,  -1.10414114e+01],\n",
       "       [ -9.37952678e+00,   1.34499141e+01,   1.66776695e+01,\n",
       "          1.77209259e-01,   1.51194952e+01,   9.32438852e+00,\n",
       "         -4.74821433e+00,   1.02847178e+01],\n",
       "       [ -2.14706567e+01,  -1.77469557e+01,  -7.55207038e+00,\n",
       "          1.10472719e+00,  -9.44371275e+00,  -1.11556426e+01,\n",
       "          1.20246135e+01,  -1.35137076e+01]])"
      ]
     },
     "execution_count": 13,
     "metadata": {},
     "output_type": "execute_result"
    }
   ],
   "source": [
    "tmp = dct(Y1)\n",
    "tmp"
   ]
  },
  {
   "cell_type": "code",
   "execution_count": 14,
   "metadata": {},
   "outputs": [
    {
     "data": {
      "text/plain": [
       "array([[  19.17051959,   41.60046972,   39.54419629,   56.4251145 ,\n",
       "          58.32696897,  148.98443481,  121.42041951,   60.11153971],\n",
       "       [  40.74158059,   67.63845546,   69.66895204,   86.10010557,\n",
       "          98.0560807 ,  206.4387388 ,  225.97074101,   71.65161511],\n",
       "       [  36.74241078,   66.38697012,   72.75111708,   86.16559972,\n",
       "         100.16915509,  201.91814455,  233.94605132,   67.30634172],\n",
       "       [  53.24471098,   84.86332272,   88.44192713,   94.31727802,\n",
       "         101.2249272 ,  169.24853761,  193.54103872,   58.56502798],\n",
       "       [  52.07666169,   93.3493124 ,   99.32236098,   98.80730642,\n",
       "          98.38829582,  143.67098156,  147.46698687,   45.91937634],\n",
       "       [ 140.04300641,  206.30154232,  207.51517923,  172.13749065,\n",
       "         146.78083198,   63.10717785,   60.53612627,   20.22179206],\n",
       "       [  97.65593012,  206.3646908 ,  222.92887633,  182.94758165,\n",
       "         140.77753853,   60.98332835,  -29.20497881,    7.8213474 ],\n",
       "       [  38.80919083,   65.16480731,   67.70945654,   56.81447158,\n",
       "          44.63058105,   22.11189119,    5.65450883,   11.83213499]])"
      ]
     },
     "execution_count": 14,
     "metadata": {},
     "output_type": "execute_result"
    }
   ],
   "source": [
    "dct2_Y1"
   ]
  },
  {
   "cell_type": "code",
   "execution_count": 15,
   "metadata": {},
   "outputs": [
    {
     "data": {
      "text/plain": [
       "<matplotlib.image.AxesImage at 0x1169815c0>"
      ]
     },
     "execution_count": 15,
     "metadata": {},
     "output_type": "execute_result"
    },
    {
     "data": {
      "image/png": "[encoded data removed]",
      "text/plain": [
       "<matplotlib.figure.Figure at 0x1166bd358>"
      ]
     },
     "metadata": {},
     "output_type": "display_data"
    }
   ],
   "source": [
    "plt.figure(figsize=(10,5))\n",
    "plt.subplot(241)\n",
    "plt.title('dct2_Y1')\n",
    "plt.imshow(dct2_Y1)\n",
    "plt.subplot(242)\n",
    "plt.title('dct2_Y2')\n",
    "plt.imshow(dct2_Y2)\n",
    "plt.subplot(243)\n",
    "plt.title('dct2_Cb')\n",
    "plt.imshow(dct2_Cb)\n",
    "plt.subplot(244)\n",
    "plt.title('dct2_Cr')\n",
    "plt.imshow(dct2_Cr)\n",
    "plt.subplot(245)\n",
    "plt.title('dct2_Y3')\n",
    "plt.imshow(dct2_Y3)\n",
    "plt.subplot(246)\n",
    "plt.title('dct2_Y4')\n",
    "plt.imshow(dct2_Y4)"
   ]
  },
  {
   "cell_type": "code",
   "execution_count": 16,
   "metadata": {},
   "outputs": [
    {
     "data": {
      "text/plain": [
       "matrix([[ 16,  11,  10,  16,  24,  40,  51,  61],\n",
       "        [ 12,  12,  14,  19,  26,  58,  60,  55],\n",
       "        [ 14,  13,  16,  24,  40,  57,  69,  56],\n",
       "        [ 14,  17,  22,  29,  51,  87,  80,  62],\n",
       "        [ 18,  22,  37,  56,  68, 109, 103,  77],\n",
       "        [ 24,  35,  55,  64,  81, 104, 113,  92],\n",
       "        [ 49,  64,  78,  87, 103, 121, 120, 101],\n",
       "        [ 72,  92,  95,  98, 112, 100, 103,  99]])"
      ]
     },
     "execution_count": 16,
     "metadata": {},
     "output_type": "execute_result"
    }
   ],
   "source": [
    "# Define quantization matrix\n",
    "# Source: https://en.wikipedia.org/wiki/MPEG-1#Quantization\n",
    "quant_intra = np.matrix('16 11 10 16 24 40 51 61;12 12 14 19 26 58 60 55;14 13 16 24 40 57 69 56;14 17 22 29 51 87 80 62;18 22 37 56 68 109 103 77;24 35 55 64 81 104 113 92;49 64 78 87 103 121 120 101;72 92 95 98 112 100 103 99')\n",
    "quant_intra"
   ]
  },
  {
   "cell_type": "code",
   "execution_count": 17,
   "metadata": {
    "collapsed": true
   },
   "outputs": [],
   "source": [
    "# Quantization function\n",
    "def quantize(F,QF):\n",
    "    quant_matrix=np.ceil(quant_intra*QF)\n",
    "    #print(quant_matrix)\n",
    "    quant_matrix[quant_matrix>255]=255\n",
    "    #print(quant_matrix)\n",
    "    return (F/quant_matrix).astype(np.int)"
   ]
  },
  {
   "cell_type": "code",
   "execution_count": 18,
   "metadata": {},
   "outputs": [],
   "source": [
    "# manual way\n",
    "def quantize1(F,QF):\n",
    "    quant_matrix=np.ceil(quant_intra*QF)\n",
    "    quant_matrix[quant_matrix>255]=255\n",
    "    tmp = []\n",
    "    for i in range(8):\n",
    "        for j in range(8):\n",
    "            #print(quant_matrix.A[i][j])\n",
    "            tmp.append(int(round(F[i][j]/quant_matrix.A[i][j])))\n",
    "    print(np.array(tmp).reshape(8,8))"
   ]
  },
  {
   "cell_type": "code",
   "execution_count": 50,
   "metadata": {
    "collapsed": true
   },
   "outputs": [],
   "source": [
    "QF = 0.3 ######## CHANGE THIS TO CONTROL QUALITY. Recommend [0.1, 2]#######\n",
    "qtz_Y1 = quantize(dct2_Y1,QF) \n",
    "qtz_Y2 = quantize(dct2_Y2,QF) \n",
    "qtz_Y3 = quantize(dct2_Y3,QF) \n",
    "qtz_Y4 = quantize(dct2_Y4,QF) \n",
    "qtz_Cb = quantize(dct2_Cb,QF) \n",
    "qtz_Cr = quantize(dct2_Cr,QF) "
   ]
  },
  {
   "cell_type": "code",
   "execution_count": 51,
   "metadata": {
    "scrolled": false
   },
   "outputs": [
    {
     "name": "stdout",
     "output_type": "stream",
     "text": [
      "[[  19.17051959   41.60046972   39.54419629   56.4251145    58.32696897\n",
      "   148.98443481  121.42041951   60.11153971]\n",
      " [  40.74158059   67.63845546   69.66895204   86.10010557   98.0560807\n",
      "   206.4387388   225.97074101   71.65161511]\n",
      " [  36.74241078   66.38697012   72.75111708   86.16559972  100.16915509\n",
      "   201.91814455  233.94605132   67.30634172]\n",
      " [  53.24471098   84.86332272   88.44192713   94.31727802  101.2249272\n",
      "   169.24853761  193.54103872   58.56502798]\n",
      " [  52.07666169   93.3493124    99.32236098   98.80730642   98.38829582\n",
      "   143.67098156  147.46698687   45.91937634]\n",
      " [ 140.04300641  206.30154232  207.51517923  172.13749065  146.78083198\n",
      "    63.10717785   60.53612627   20.22179206]\n",
      " [  97.65593012  206.3646908   222.92887633  182.94758165  140.77753853\n",
      "    60.98332835  -29.20497881    7.8213474 ]\n",
      " [  38.80919083   65.16480731   67.70945654   56.81447158   44.63058105\n",
      "    22.11189119    5.65450883   11.83213499]]\n"
     ]
    }
   ],
   "source": [
    "print(dct2_Y1)"
   ]
  },
  {
   "cell_type": "code",
   "execution_count": 52,
   "metadata": {},
   "outputs": [
    {
     "data": {
      "text/plain": [
       "matrix([[25, 39, 52, 16,  8,  6,  5,  2],\n",
       "        [39, 51, 39, 19,  8,  5,  7,  3],\n",
       "        [31, 50, 38, 14,  4,  5,  6,  3],\n",
       "        [19, 17, 13,  8,  3,  2,  2,  1],\n",
       "        [13, 10,  4,  3,  2,  1,  0,  0],\n",
       "        [ 9, 11,  6,  4,  1,  2,  1,  0],\n",
       "        [ 5,  6,  5,  2,  1,  1,  2,  1],\n",
       "        [ 2,  2,  2,  1,  0,  0,  1,  0]])"
      ]
     },
     "execution_count": 52,
     "metadata": {},
     "output_type": "execute_result"
    }
   ],
   "source": [
    "qtz_Cb"
   ]
  },
  {
   "cell_type": "code",
   "execution_count": 53,
   "metadata": {
    "collapsed": true
   },
   "outputs": [],
   "source": [
    "# takes a series of integers, returns the number of prefix 0s\n",
    "def prefix_0(s):\n",
    "    if len(s)==0:\n",
    "        return 0\n",
    "    i=0\n",
    "    count = 0\n",
    "    while s[i]==0 :\n",
    "        count+=1\n",
    "        #print(i,len(s)-1)\n",
    "        if i==len(s)-1:\n",
    "            return count\n",
    "        i+=1\n",
    "    return count"
   ]
  },
  {
   "cell_type": "code",
   "execution_count": 54,
   "metadata": {
    "collapsed": true,
    "scrolled": true
   },
   "outputs": [],
   "source": [
    "# This is an array of indices that we use to sample a flattened DCT array in zigzag order.\n",
    "zz_indices = [ 0,  1,  8, 16,  9,  2,  3, 10,\n",
    "               17, 24, 32, 25, 18, 11, 4,  5,\n",
    "               12, 19, 26, 33, 40, 48, 41, 34,\n",
    "               27, 20, 13,  6,  7, 14, 21, 28,\n",
    "               35, 42, 49, 56, 57, 50, 43, 36,\n",
    "               29, 22, 15, 23, 30, 37, 44, 51,\n",
    "               58, 59, 52, 45, 38, 31, 39, 46,\n",
    "               53, 60, 61, 54, 47, 55, 62, 63]"
   ]
  },
  {
   "cell_type": "code",
   "execution_count": 55,
   "metadata": {},
   "outputs": [
    {
     "name": "stdout",
     "output_type": "stream",
     "text": [
      "64\n",
      "[3, 10, 10, 7, 16, 13, 11, 13, 16, 10, 8, 14, 14, 14, 7, 12, 12, 10, 12, 13, 17, 6, 18, 8, 10, 8, 11, 7, 3, 12, 11, 6, 5, 12, 10, 1, 2, 9, 8, 4, 6, 11, 4, 3, 8, 4, 5, 6, 2, 1, 4, 1, 4, 3, 1, 1, 1, 1, 0, 0, 0, 0, 0, 0]\n"
     ]
    }
   ],
   "source": [
    "# convert the flattened list to the zigzaged order\n",
    "zz_series = [qtz_Y1.A1[i] for i in zz_indices]\n",
    "print(len(zz_series))\n",
    "print(zz_series)"
   ]
  },
  {
   "cell_type": "code",
   "execution_count": 56,
   "metadata": {
    "collapsed": true,
    "scrolled": true
   },
   "outputs": [],
   "source": [
    "# process the middle part -- <run, level>\n",
    "# takes a list of numbers\n",
    "# return a list of <run, level> pair\n",
    "def run_level(tmp):\n",
    "    encoded_string = []\n",
    "    while True:\n",
    "        #print(tmp)\n",
    "        a = prefix_0(tmp)\n",
    "        #print(a,len(tmp))\n",
    "        if a==len(tmp):\n",
    "            break\n",
    "        #print([a,tmp[a]])\n",
    "        encoded_string.append([a,tmp[a]])\n",
    "        tmp = tmp[a+1:]\n",
    "    return encoded_string"
   ]
  },
  {
   "cell_type": "code",
   "execution_count": 57,
   "metadata": {
    "collapsed": true
   },
   "outputs": [],
   "source": [
    "# takes a zigzag series of coeffs\n",
    "# returns a list, in the form <DC term> <run, level> <EOB>\n",
    "def encode(tmp):\n",
    "    encoded_string = [tmp[0]]\n",
    "    encoded_string += run_level(tmp[1:])\n",
    "    encoded_string.append('EOB')\n",
    "    return encoded_string"
   ]
  },
  {
   "cell_type": "code",
   "execution_count": 58,
   "metadata": {
    "collapsed": true
   },
   "outputs": [],
   "source": [
    "# takes a list, in the form <DC term> <run, level> <EOB>\n",
    "# returns a zigzag series of coeffs\n",
    "def decode(encoded_string):\n",
    "    rst = [encoded_string[0]]\n",
    "    for i in encoded_string[1:-1]:\n",
    "        #print(i)\n",
    "        for _ in range(i[0]):\n",
    "            rst.append(0)\n",
    "        rst.append(i[1])\n",
    "    #print(16-len(rst))\n",
    "    for i in range(64-len(rst)):\n",
    "        rst.append(0)\n",
    "    return rst"
   ]
  },
  {
   "cell_type": "code",
   "execution_count": 59,
   "metadata": {},
   "outputs": [
    {
     "name": "stdout",
     "output_type": "stream",
     "text": [
      "[1, 2, 0, 0, 1, 0, 0, 0, 2, 0, 3, 0, 0, 0, 0, 0]\n",
      "[1, [0, 2], [2, 1], [3, 2], [1, 3], 'EOB']\n",
      "[1, 2, 0, 0, 1, 0, 0, 0, 2, 0, 3, 0, 0, 0, 0, 0, 0, 0, 0, 0, 0, 0, 0, 0, 0, 0, 0, 0, 0, 0, 0, 0, 0, 0, 0, 0, 0, 0, 0, 0, 0, 0, 0, 0, 0, 0, 0, 0, 0, 0, 0, 0, 0, 0, 0, 0, 0, 0, 0, 0, 0, 0, 0, 0]\n"
     ]
    }
   ],
   "source": [
    "# a simple example of encoding and decoding\n",
    "tmp = [1,2,0,0,1,0,0,0,2,0,3,0,0,0,0,0]\n",
    "encoded = encode(tmp)\n",
    "decoded = decode(encoded)\n",
    "print(tmp)\n",
    "print(encoded)\n",
    "print(decoded) #decoded list has extra zeros because it only works for 8x8 blocks, but this example has less elements."
   ]
  },
  {
   "cell_type": "code",
   "execution_count": 60,
   "metadata": {
    "scrolled": true
   },
   "outputs": [
    {
     "name": "stdout",
     "output_type": "stream",
     "text": [
      "[3, 10, 10, 7, 16, 13, 11, 13, 16, 10, 8, 14, 14, 14, 7, 12, 12, 10, 12, 13, 17, 6, 18, 8, 10, 8, 11, 7, 3, 12, 11, 6, 5, 12, 10, 1, 2, 9, 8, 4, 6, 11, 4, 3, 8, 4, 5, 6, 2, 1, 4, 1, 4, 3, 1, 1, 1, 1, 0, 0, 0, 0, 0, 0] 64 \n",
      "\n",
      "[3, [0, 10], [0, 10], [0, 7], [0, 16], [0, 13], [0, 11], [0, 13], [0, 16], [0, 10], [0, 8], [0, 14], [0, 14], [0, 14], [0, 7], [0, 12], [0, 12], [0, 10], [0, 12], [0, 13], [0, 17], [0, 6], [0, 18], [0, 8], [0, 10], [0, 8], [0, 11], [0, 7], [0, 3], [0, 12], [0, 11], [0, 6], [0, 5], [0, 12], [0, 10], [0, 1], [0, 2], [0, 9], [0, 8], [0, 4], [0, 6], [0, 11], [0, 4], [0, 3], [0, 8], [0, 4], [0, 5], [0, 6], [0, 2], [0, 1], [0, 4], [0, 1], [0, 4], [0, 3], [0, 1], [0, 1], [0, 1], [0, 1], 'EOB'] \n",
      "\n",
      "[3, 10, 10, 7, 16, 13, 11, 13, 16, 10, 8, 14, 14, 14, 7, 12, 12, 10, 12, 13, 17, 6, 18, 8, 10, 8, 11, 7, 3, 12, 11, 6, 5, 12, 10, 1, 2, 9, 8, 4, 6, 11, 4, 3, 8, 4, 5, 6, 2, 1, 4, 1, 4, 3, 1, 1, 1, 1, 0, 0, 0, 0, 0, 0] 64\n"
     ]
    }
   ],
   "source": [
    "# encoding and decoding Y1\n",
    "print(zz_series,len(zz_series),\"\\n\")\n",
    "encoded = encode(zz_series)\n",
    "print(encoded,\"\\n\")\n",
    "decoded = decode(encoded)\n",
    "print(decoded,len(decoded))"
   ]
  },
  {
   "cell_type": "code",
   "execution_count": 61,
   "metadata": {
    "collapsed": true
   },
   "outputs": [],
   "source": [
    "reversed_zz_indices = [0, 1, 5, 6, 14,15,27,28,\n",
    "                       2, 4, 7, 13,16,26,29,42,\n",
    "                       3, 8, 12,17,25,30,41,43,\n",
    "                       9, 11,18,24,31,40,44,53,\n",
    "                       10,19,23,32,39,45,52,54,\n",
    "                       20,22,33,38,46,51,55,60,\n",
    "                       21,34,37,47,50,56,59,61,\n",
    "                       35,36,48,49,57,58,62,63]"
   ]
  },
  {
   "cell_type": "code",
   "execution_count": 62,
   "metadata": {},
   "outputs": [
    {
     "data": {
      "text/plain": [
       "matrix([[ 3, 10, 13, 11,  7, 12,  7,  3],\n",
       "        [10, 16, 13, 14, 12, 11, 12,  4],\n",
       "        [ 7, 16, 14, 10,  8, 11, 11,  3],\n",
       "        [10, 14, 12, 10,  6,  6,  8,  3],\n",
       "        [ 8, 13,  8,  5,  4,  4,  4,  1],\n",
       "        [17, 18, 12,  8,  5,  1,  1,  0],\n",
       "        [ 6, 10,  9,  6,  4,  1,  0,  0],\n",
       "        [ 1,  2,  2,  1,  1,  0,  0,  0]])"
      ]
     },
     "execution_count": 62,
     "metadata": {},
     "output_type": "execute_result"
    }
   ],
   "source": [
    "qtz_Y1"
   ]
  },
  {
   "cell_type": "code",
   "execution_count": 63,
   "metadata": {
    "collapsed": true
   },
   "outputs": [],
   "source": [
    "def de_flatten(F):\n",
    "    return np.array([F[i] for i in reversed_zz_indices]).reshape(8,8)"
   ]
  },
  {
   "cell_type": "code",
   "execution_count": 64,
   "metadata": {},
   "outputs": [
    {
     "data": {
      "text/plain": [
       "array([[ 3, 10, 13, 11,  7, 12,  7,  3],\n",
       "       [10, 16, 13, 14, 12, 11, 12,  4],\n",
       "       [ 7, 16, 14, 10,  8, 11, 11,  3],\n",
       "       [10, 14, 12, 10,  6,  6,  8,  3],\n",
       "       [ 8, 13,  8,  5,  4,  4,  4,  1],\n",
       "       [17, 18, 12,  8,  5,  1,  1,  0],\n",
       "       [ 6, 10,  9,  6,  4,  1,  0,  0],\n",
       "       [ 1,  2,  2,  1,  1,  0,  0,  0]])"
      ]
     },
     "execution_count": 64,
     "metadata": {},
     "output_type": "execute_result"
    }
   ],
   "source": [
    "de_flattened = de_flatten(decoded)\n",
    "de_flattened"
   ]
  },
  {
   "cell_type": "code",
   "execution_count": 65,
   "metadata": {
    "collapsed": true
   },
   "outputs": [],
   "source": [
    "### doesn't correct. don't know why ###\n",
    "def de_quantize(F):\n",
    "    quant_matrix=np.ceil(quant_intra*QF)\n",
    "    #print(quant_matrix)\n",
    "    quant_matrix[quant_matrix>255]=255\n",
    "    print(quant_matrix)\n",
    "    print(F)\n",
    "    return (F*quant_matrix).astype(np.int)"
   ]
  },
  {
   "cell_type": "code",
   "execution_count": 66,
   "metadata": {
    "collapsed": true
   },
   "outputs": [],
   "source": [
    "# manual way\n",
    "def de_quantize1(F,QF):\n",
    "    quant_matrix=np.ceil(quant_intra*QF)\n",
    "    quant_matrix[quant_matrix>255]=255\n",
    "    tmp = []\n",
    "    for i in range(8):\n",
    "        for j in range(8):\n",
    "            #print(quant_matrix.A[i][j])\n",
    "            tmp.append(int(F[i][j]*quant_matrix.A[i][j]))\n",
    "    return np.array(tmp).reshape(8,8)"
   ]
  },
  {
   "cell_type": "code",
   "execution_count": 67,
   "metadata": {},
   "outputs": [
    {
     "data": {
      "text/plain": [
       "array([[ 15,  40,  39,  55,  56, 144, 112,  57],\n",
       "       [ 40,  64,  65,  84,  96, 198, 216,  68],\n",
       "       [ 35,  64,  70,  80,  96, 198, 231,  51],\n",
       "       [ 50,  84,  84,  90,  96, 162, 192,  57],\n",
       "       [ 48,  91,  96,  85,  84, 132, 124,  24],\n",
       "       [136, 198, 204, 160, 125,  32,  34,   0],\n",
       "       [ 90, 200, 216, 162, 124,  37,   0,   0],\n",
       "       [ 22,  56,  58,  30,  34,   0,   0,   0]])"
      ]
     },
     "execution_count": 67,
     "metadata": {},
     "output_type": "execute_result"
    }
   ],
   "source": [
    "de_quantized = de_quantize1(de_flattened,QF)\n",
    "de_quantized"
   ]
  },
  {
   "cell_type": "code",
   "execution_count": 68,
   "metadata": {},
   "outputs": [
    {
     "data": {
      "text/plain": [
       "array([[ 19,  41,  39,  56,  58, 148, 121,  60],\n",
       "       [ 40,  67,  69,  86,  98, 206, 225,  71],\n",
       "       [ 36,  66,  72,  86, 100, 201, 233,  67],\n",
       "       [ 53,  84,  88,  94, 101, 169, 193,  58],\n",
       "       [ 52,  93,  99,  98,  98, 143, 147,  45],\n",
       "       [140, 206, 207, 172, 146,  63,  60,  20],\n",
       "       [ 97, 206, 222, 182, 140,  60, -29,   7],\n",
       "       [ 38,  65,  67,  56,  44,  22,   5,  11]])"
      ]
     },
     "execution_count": 68,
     "metadata": {},
     "output_type": "execute_result"
    }
   ],
   "source": [
    "### compared to original dct matrix ###\n",
    "dct2_Y1.astype(int)"
   ]
  },
  {
   "cell_type": "code",
   "execution_count": 69,
   "metadata": {
    "collapsed": true
   },
   "outputs": [],
   "source": [
    "# the ultimate goal here is to regenerate the original picture"
   ]
  },
  {
   "cell_type": "code",
   "execution_count": 70,
   "metadata": {},
   "outputs": [
    {
     "data": {
      "text/plain": [
       "array([[ -2,   0,   0,   2,   2, 109, 122, 135],\n",
       "       [  1,  -2,  -1,   0,   2, 103, 189, 143],\n",
       "       [ -1,   0,  -1,   0,   0, 106, 196, 146],\n",
       "       [  0,   0,  -4,   0,   0, 104, 192, 157],\n",
       "       [  0,   2,   1,  -4,   0, 110, 169, 123],\n",
       "       [112, 108, 116, 112, 105,  99, 154, 114],\n",
       "       [111, 182, 180, 172, 161, 151, 156, 129],\n",
       "       [ 91, 148, 136, 123, 128, 106, 131, 105]])"
      ]
     },
     "execution_count": 70,
     "metadata": {},
     "output_type": "execute_result"
    }
   ],
   "source": [
    "regenerated = idct(idct(de_quantized)).astype(int)\n",
    "regenerated"
   ]
  },
  {
   "cell_type": "code",
   "execution_count": 71,
   "metadata": {},
   "outputs": [
    {
     "data": {
      "text/plain": [
       "array([[  0,   0,   0,   0,   0, 110, 132, 138],\n",
       "       [  0,   0,   0,   0,   0, 104, 193, 150],\n",
       "       [  0,   0,   0,   0,   0, 104, 192, 154],\n",
       "       [  0,   0,   0,   0,   0, 104, 191, 152],\n",
       "       [  0,   0,   0,   0,   0, 104, 189, 151],\n",
       "       [110, 110, 110, 110, 110, 110, 186, 147],\n",
       "       [113, 182, 183, 181, 181, 179, 145, 145],\n",
       "       [107, 147, 149, 147, 146, 145, 144, 143]], dtype=uint8)"
      ]
     },
     "execution_count": 71,
     "metadata": {},
     "output_type": "execute_result"
    }
   ],
   "source": [
    "### compared to original Y matrix ###\n",
    "Y1"
   ]
  },
  {
   "cell_type": "code",
   "execution_count": 72,
   "metadata": {},
   "outputs": [
    {
     "data": {
      "text/plain": [
       "<matplotlib.image.AxesImage at 0x117931c50>"
      ]
     },
     "execution_count": 72,
     "metadata": {},
     "output_type": "execute_result"
    },
    {
     "data": {
      "image/png": "[encoded data removed]",
      "text/plain": [
       "<matplotlib.figure.Figure at 0x117f9a1d0>"
      ]
     },
     "metadata": {},
     "output_type": "display_data"
    }
   ],
   "source": [
    "plt.figure(figsize=(10,5))\n",
    "plt.subplot(121)\n",
    "plt.title('decoded QF={}'.format(QF))\n",
    "plt.imshow(regenerated)\n",
    "plt.subplot(122)\n",
    "plt.title('Y1')\n",
    "plt.imshow(Y1)"
   ]
  },
  {
   "cell_type": "code",
   "execution_count": 75,
   "metadata": {
    "collapsed": true
   },
   "outputs": [],
   "source": [
    "def rescue_code(function):\n",
    "    import inspect\n",
    "    get_ipython().set_next_input(\"\".join(inspect.getsourcelines(function)[0]))"
   ]
  }
 ],
 "metadata": {
  "kernelspec": {
   "display_name": "Python 3",
   "language": "python",
   "name": "python3"
  },
  "language_info": {
   "codemirror_mode": {
    "name": "ipython",
    "version": 3
   },
   "file_extension": ".py",
   "mimetype": "text/x-python",
   "name": "python",
   "nbconvert_exporter": "python",
   "pygments_lexer": "ipython3",
   "version": "3.6.2"
  }
 },
 "nbformat": 4,
 "nbformat_minor": 2
}
