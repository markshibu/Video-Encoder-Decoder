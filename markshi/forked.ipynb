{
 "cells": [
  {
   "cell_type": "markdown",
   "metadata": {},
   "source": [
    "Process_image.py - takes as input 16x16x3 matrix, corresponding to a Macroblock of the image\n",
    "\n",
    "Outputs the result of the DCT transformation and Quantization"
   ]
  },
  {
   "cell_type": "code",
   "execution_count": 1,
   "metadata": {
    "collapsed": true
   },
   "outputs": [],
   "source": [
    "import numpy as np\n",
    "import sys\n",
    "import cv2\n",
    "import matplotlib.pyplot as plt\n",
    "%matplotlib inline\n",
    "from numpy import empty,arange,exp,real,imag,pi\n",
    "from numpy.fft import rfft,irfft"
   ]
  },
  {
   "cell_type": "markdown",
   "metadata": {},
   "source": [
    "Definitions for 2D DCT\n",
    "\n",
    "Functions origionally written by Mark Newman <mejn@umich.edu>\n",
    "\n",
    "Accessed from http://www-personal.umich.edu/~mejn/computational-physics/dcst.py\n",
    "\n",
    "Source contains blurb : \"You may use, share, or modify this file freely\""
   ]
  },
  {
   "cell_type": "code",
   "execution_count": 3,
   "metadata": {
    "collapsed": true
   },
   "outputs": [],
   "source": [
    "#### 2D DCT ####\n",
    "def dct2(y):\n",
    "    def dct(y):\n",
    "        N = len(y)\n",
    "        y2 = empty(2*N,float)\n",
    "        y2[:N] = y[:]\n",
    "        y2[N:] = y[::-1]\n",
    "\n",
    "        c = rfft(y2)\n",
    "        phi = exp(-1j*pi*arange(N)/(2*N))\n",
    "        return real(phi*c[:N])\n",
    "    \n",
    "    M = y.shape[0]\n",
    "    N = y.shape[1]\n",
    "    a = empty([M,N],float)\n",
    "    b = empty([M,N],float)\n",
    "\n",
    "    for i in range(M):\n",
    "        a[i,:] = dct(y[i,:])\n",
    "    for j in range(N):\n",
    "        b[:,j] = dct(a[:,j])\n",
    "\n",
    "    return b"
   ]
  },
  {
   "cell_type": "code",
   "execution_count": 6,
   "metadata": {},
   "outputs": [],
   "source": [
    "img_name = 'Add.png'\n",
    "rgb = M = cv2.imread(img_name,1)\n",
    "Q = 50"
   ]
  },
  {
   "cell_type": "code",
   "execution_count": 5,
   "metadata": {},
   "outputs": [
    {
     "data": {
      "text/plain": [
       "<matplotlib.image.AxesImage at 0x1140b5f60>"
      ]
     },
     "execution_count": 5,
     "metadata": {},
     "output_type": "execute_result"
    },
    {
     "data": {
      "image/png": "[encoded data removed]",
      "text/plain": [
       "<matplotlib.figure.Figure at 0x110e8b7f0>"
      ]
     },
     "metadata": {},
     "output_type": "display_data"
    }
   ],
   "source": [
    "plt.title('16*16')\n",
    "plt.imshow(M)"
   ]
  },
  {
   "cell_type": "code",
   "execution_count": 8,
   "metadata": {
    "collapsed": true,
    "scrolled": true
   },
   "outputs": [],
   "source": [
    "# Split bgr color channels\n",
    "blue,green,red = cv2.split(M)\n",
    "gray = cv2.cvtColor(M , cv2.COLOR_BGR2GRAY) # Convert color form BGR to Gray"
   ]
  },
  {
   "cell_type": "code",
   "execution_count": 9,
   "metadata": {},
   "outputs": [
    {
     "data": {
      "text/plain": [
       "<matplotlib.image.AxesImage at 0x114344908>"
      ]
     },
     "execution_count": 9,
     "metadata": {},
     "output_type": "execute_result"
    },
    {
     "data": {
      "image/png": "[encoded data removed]",
      "text/plain": [
       "<matplotlib.figure.Figure at 0x1140e5588>"
      ]
     },
     "metadata": {},
     "output_type": "display_data"
    }
   ],
   "source": [
    "plt.figure(figsize=(15,5))\n",
    "plt.subplot(151)\n",
    "plt.title('rgb')\n",
    "plt.imshow(rgb)\n",
    "plt.subplot(152)\n",
    "plt.title('red')\n",
    "plt.imshow(red)\n",
    "plt.subplot(153)\n",
    "plt.title('green')\n",
    "plt.imshow(green)\n",
    "plt.subplot(154)\n",
    "plt.title('blue')\n",
    "plt.imshow(blue)\n",
    "plt.subplot(155)\n",
    "plt.title('gray')\n",
    "plt.imshow(gray)"
   ]
  },
  {
   "cell_type": "code",
   "execution_count": 39,
   "metadata": {
    "collapsed": true
   },
   "outputs": [],
   "source": [
    "# Convert color form BGR to Y_Cr_Cb\n",
    "YCrCb = cv2.cvtColor(rgb , cv2.COLOR_RGB2YCR_CB) \n",
    "# Split Y_Cb_Cr channels\n",
    "Y,Cb,Cr = cv2.split(YCrCb)"
   ]
  },
  {
   "cell_type": "code",
   "execution_count": 11,
   "metadata": {},
   "outputs": [
    {
     "data": {
      "text/plain": [
       "<matplotlib.image.AxesImage at 0x114797470>"
      ]
     },
     "execution_count": 11,
     "metadata": {},
     "output_type": "execute_result"
    },
    {
     "data": {
      "image/png": "[encoded data removed]",
      "text/plain": [
       "<matplotlib.figure.Figure at 0x114542470>"
      ]
     },
     "metadata": {},
     "output_type": "display_data"
    }
   ],
   "source": [
    "plt.figure(figsize=(15,5))\n",
    "plt.subplot(151)\n",
    "plt.title('rgb')\n",
    "plt.imshow(rgb)\n",
    "plt.subplot(152)\n",
    "plt.title('Y')\n",
    "plt.imshow(Y)\n",
    "plt.subplot(153)\n",
    "plt.title('Cb')\n",
    "plt.imshow(Cb)\n",
    "plt.subplot(154)\n",
    "plt.title('Cr')\n",
    "plt.imshow(Cr)\n",
    "plt.subplot(155)\n",
    "plt.title('gray')\n",
    "plt.imshow(gray)"
   ]
  },
  {
   "cell_type": "code",
   "execution_count": 12,
   "metadata": {
    "collapsed": true
   },
   "outputs": [],
   "source": [
    "Y1 = Y[:8,:8]\n",
    "Y2 = Y[:8,8:]\n",
    "Y3 = Y[8:,:8]\n",
    "Y4 = Y[8:,8:]"
   ]
  },
  {
   "cell_type": "code",
   "execution_count": 36,
   "metadata": {},
   "outputs": [],
   "source": [
    "# The strategy of subsampling is to keep the top left pixel for each 2x2 block\n",
    "# We can also compute the mean of 2x2 block, the let it be the summary of the small block\n",
    "def subsample(src):\n",
    "    tmp = []\n",
    "    for i in range(0,len(src),2):\n",
    "        #print(i)\n",
    "        #print(Cb[i])\n",
    "        #print(Cb[i][::2])\n",
    "        tmp.append(src[i][::2])\n",
    "        #print(tmp)\n",
    "    tmp = np.array(tmp)\n",
    "    return tmp"
   ]
  },
  {
   "cell_type": "code",
   "execution_count": 42,
   "metadata": {},
   "outputs": [
    {
     "data": {
      "text/plain": [
       "<matplotlib.image.AxesImage at 0x115343278>"
      ]
     },
     "execution_count": 42,
     "metadata": {},
     "output_type": "execute_result"
    },
    {
     "data": {
      "image/png": "[encoded data removed]",
      "text/plain": [
       "<matplotlib.figure.Figure at 0x11524c5c0>"
      ]
     },
     "metadata": {},
     "output_type": "display_data"
    }
   ],
   "source": [
    "Cb1 = subsample(Cb)\n",
    "plt.imshow(Cb1)"
   ]
  },
  {
   "cell_type": "code",
   "execution_count": 41,
   "metadata": {},
   "outputs": [
    {
     "data": {
      "text/plain": [
       "<matplotlib.image.AxesImage at 0x1151e0cc0>"
      ]
     },
     "execution_count": 41,
     "metadata": {},
     "output_type": "execute_result"
    },
    {
     "data": {
      "image/png": "[encoded data removed]",
      "text/plain": [
       "<matplotlib.figure.Figure at 0x1147d8358>"
      ]
     },
     "metadata": {},
     "output_type": "display_data"
    }
   ],
   "source": [
    "Cr1 = subsample(Cr)\n",
    "plt.imshow(Cr1)"
   ]
  },
  {
   "cell_type": "code",
   "execution_count": 53,
   "metadata": {},
   "outputs": [
    {
     "data": {
      "text/plain": [
       "<matplotlib.image.AxesImage at 0x115f66eb8>"
      ]
     },
     "execution_count": 53,
     "metadata": {},
     "output_type": "execute_result"
    },
    {
     "data": {
      "image/png": "[encoded data removed]",
      "text/plain": [
       "<matplotlib.figure.Figure at 0x115c99588>"
      ]
     },
     "metadata": {},
     "output_type": "display_data"
    }
   ],
   "source": [
    "plt.subplot(241)\n",
    "plt.title('Y1')\n",
    "plt.imshow(Y1)\n",
    "plt.subplot(242)\n",
    "plt.title('Y2')\n",
    "plt.imshow(Y2)\n",
    "plt.subplot(243)\n",
    "plt.title('Cb1')\n",
    "plt.imshow(Cb1)\n",
    "plt.subplot(245)\n",
    "plt.title('Y3')\n",
    "plt.imshow(Y3)\n",
    "plt.subplot(246)\n",
    "plt.title('Y4')\n",
    "plt.imshow(Y4)\n",
    "plt.subplot(244)\n",
    "plt.title('Cr1')\n",
    "plt.imshow(Cr1)"
   ]
  },
  {
   "cell_type": "code",
   "execution_count": 44,
   "metadata": {
    "collapsed": true
   },
   "outputs": [],
   "source": [
    "dct2_Y1 = dct2(Y1) \n",
    "dct2_Y2 = dct2(Y2) \n",
    "dct2_Y3 = dct2(Y3) \n",
    "dct2_Y4 = dct2(Y4) \n",
    "dct2_Cb1 = dct2(Cb1) \n",
    "dct2_Cr1 = dct2(Cr1) "
   ]
  },
  {
   "cell_type": "code",
   "execution_count": 45,
   "metadata": {},
   "outputs": [
    {
     "data": {
      "text/plain": [
       "<matplotlib.image.AxesImage at 0x1159ae8d0>"
      ]
     },
     "execution_count": 45,
     "metadata": {},
     "output_type": "execute_result"
    },
    {
     "data": {
      "image/png": "[encoded data removed]",
      "text/plain": [
       "<matplotlib.figure.Figure at 0x1156b60b8>"
      ]
     },
     "metadata": {},
     "output_type": "display_data"
    }
   ],
   "source": [
    "plt.subplot(241)\n",
    "plt.title('dct2_Y1')\n",
    "plt.imshow(dct2_Y1)\n",
    "plt.subplot(242)\n",
    "plt.title('dct2_Y2')\n",
    "plt.imshow(dct2_Y2)\n",
    "plt.subplot(243)\n",
    "plt.title('dct2_Cb1')\n",
    "plt.imshow(dct2_Cb1)\n",
    "plt.subplot(245)\n",
    "plt.title('dct2_Y3')\n",
    "plt.imshow(dct2_Y3)\n",
    "plt.subplot(246)\n",
    "plt.title('dct2_Y4')\n",
    "plt.imshow(dct2_Y4)\n",
    "plt.subplot(244)\n",
    "plt.title('dct2_Cr1')\n",
    "plt.imshow(dct2_Cr1)"
   ]
  },
  {
   "cell_type": "code",
   "execution_count": 51,
   "metadata": {},
   "outputs": [
    {
     "data": {
      "text/plain": [
       "array([[  2.23920000e+04,  -7.58807571e+03,   2.97272411e+03,\n",
       "         -6.89547800e+01,  -2.34193766e+03,   1.37045061e+03,\n",
       "         -5.39450997e+02,  -3.16647163e+02],\n",
       "       [ -7.00577424e+03,  -2.90239626e+03,   1.88359837e+03,\n",
       "          4.47077394e+02,  -5.17834495e+02,   7.33146875e+02,\n",
       "          1.97110483e+02,  -2.01039603e+02],\n",
       "       [  2.75925434e+03,   1.60841399e+03,  -1.19602857e+03,\n",
       "         -1.84331478e+02,   3.25340777e+02,  -7.27588448e+02,\n",
       "          2.98842712e+02,  -2.00006709e+02],\n",
       "       [  3.08513137e+02,   4.30159928e+02,  -7.80118984e+01,\n",
       "          3.18103628e+01,   1.84533327e+02,  -4.81285143e+01,\n",
       "          3.81935431e+01,   3.35256948e+01],\n",
       "       [ -2.26274170e+03,  -6.60704232e+02,   3.91488685e+02,\n",
       "          1.05898145e+02,  -6.80000000e+01,   1.40261101e+01,\n",
       "          2.44819544e+02,  -1.85285640e+02],\n",
       "       [  1.30572297e+03,   6.08041981e+02,  -6.20359751e+02,\n",
       "         -6.70402025e+01,   5.97650177e+01,  -4.01194780e+02,\n",
       "          1.92119187e+02,  -1.76662582e+02],\n",
       "       [ -2.12234464e+02,   2.15198625e+02,   2.66842712e+02,\n",
       "          2.83534815e+00,   2.41911923e+02,   1.49190216e+02,\n",
       "         -7.59714293e+01,   1.64555485e+02],\n",
       "       [ -4.85825501e+02,  -2.83951291e+02,  -1.20833126e+02,\n",
       "          1.76756350e+01,  -1.51099404e+02,  -1.78490282e+02,\n",
       "          1.92393816e+02,  -2.16219322e+02]])"
      ]
     },
     "execution_count": 51,
     "metadata": {},
     "output_type": "execute_result"
    }
   ],
   "source": [
    "dct2_Y1"
   ]
  },
  {
   "cell_type": "code",
   "execution_count": 50,
   "metadata": {},
   "outputs": [
    {
     "data": {
      "text/plain": [
       "matrix([[ 16,  11,  10,  16,  24,  40,  51,  61],\n",
       "        [ 12,  12,  14,  19,  26,  58,  60,  55],\n",
       "        [ 14,  13,  16,  24,  40,  57,  69,  56],\n",
       "        [ 14,  17,  22,  29,  51,  87,  80,  62],\n",
       "        [ 18,  22,  37,  56,  68, 109, 103,  77],\n",
       "        [ 24,  35,  55,  64,  81, 104, 113,  92],\n",
       "        [ 49,  64,  78,  87, 103, 121, 120, 101],\n",
       "        [ 72,  92,  95,  98, 112, 100, 103,  99]])"
      ]
     },
     "execution_count": 50,
     "metadata": {},
     "output_type": "execute_result"
    }
   ],
   "source": [
    "#Quantization steps\n",
    "#define base quantization matrix - taken from IJG standard \n",
    "Qb = np.matrix('16 11 10 16 24 40 51 61;12 12 14 19 26 58 60 55;14 13 16 24 40 57 69 56;14 17 22 29 51 87 80 62;18 22 37 56 68 109 103 77;24 35 55 64 81 104 113 92;49 64 78 87 103 121 120 101;72 92 95 98 112 100 103 99') \n",
    "Qb"
   ]
  },
  {
   "cell_type": "code",
   "execution_count": null,
   "metadata": {
    "collapsed": true
   },
   "outputs": [],
   "source": [
    "# from quaity factor, determine multiplication factor for quantization\n",
    "if Q < 50:\n",
    "    S = 5000/Q;\n",
    "else:\n",
    "    S = 200 - 2*Q;"
   ]
  },
  {
   "cell_type": "code",
   "execution_count": null,
   "metadata": {
    "collapsed": true
   },
   "outputs": [],
   "source": [
    "# determine quantized matrix result\n",
    "for i in range (0,8):\n",
    "    for j in range (0,8):\n",
    "        Qf = (S*Qb[i,j] + 50) // 100\n",
    "        if Qf == 0:\n",
    "            Qf = 1\n",
    "        B1[i,j] = B1[i,j] // Qf\n",
    "        B2[i,j] = B2[i,j] // Qf\n",
    "        B3[i,j] = B3[i,j] // Qf\n",
    "        B4[i,j] = B4[i,j] // Qf\n",
    "        Bb[i,j] = Bb[i,j] // Qf\n",
    "        Br[i,j] = Br[i,j] // Qf\n",
    "        \n",
    "# define the collection of the 6 processed blocks, and return\n",
    "B = [B1, B2, B3, B4, Bb, Br]"
   ]
  }
 ],
 "metadata": {
  "kernelspec": {
   "display_name": "Python 3",
   "language": "python",
   "name": "python3"
  },
  "language_info": {
   "codemirror_mode": {
    "name": "ipython",
    "version": 3
   },
   "file_extension": ".py",
   "mimetype": "text/x-python",
   "name": "python",
   "nbconvert_exporter": "python",
   "pygments_lexer": "ipython3",
   "version": "3.6.2"
  }
 },
 "nbformat": 4,
 "nbformat_minor": 2
}
